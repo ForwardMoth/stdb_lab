{
 "cells": [
  {
   "cell_type": "code",
   "execution_count": 1,
   "id": "05464669-dd82-4352-9949-32f709ef00f9",
   "metadata": {},
   "outputs": [],
   "source": [
    "import pandas as pd"
   ]
  },
  {
   "cell_type": "code",
   "execution_count": 15,
   "id": "896e6c9b-e155-4f18-a6f1-8dd00faba8c9",
   "metadata": {},
   "outputs": [],
   "source": [
    "brent_df = pd.read_csv('brent_prices.csv', sep=';')\n",
    "dollar_df = pd.read_csv('dollar_curs.csv', sep=';')"
   ]
  },
  {
   "cell_type": "code",
   "execution_count": 16,
   "id": "c382e73b-db42-4a28-b83e-7b8fc99cd1db",
   "metadata": {},
   "outputs": [
    {
     "data": {
      "text/html": [
       "<div>\n",
       "<style scoped>\n",
       "    .dataframe tbody tr th:only-of-type {\n",
       "        vertical-align: middle;\n",
       "    }\n",
       "\n",
       "    .dataframe tbody tr th {\n",
       "        vertical-align: top;\n",
       "    }\n",
       "\n",
       "    .dataframe thead th {\n",
       "        text-align: right;\n",
       "    }\n",
       "</style>\n",
       "<table border=\"1\" class=\"dataframe\">\n",
       "  <thead>\n",
       "    <tr style=\"text-align: right;\">\n",
       "      <th></th>\n",
       "      <th>&lt;TICKER&gt;</th>\n",
       "      <th>&lt;PER&gt;</th>\n",
       "      <th>&lt;DATE&gt;</th>\n",
       "      <th>&lt;OPEN&gt;</th>\n",
       "      <th>&lt;HIGH&gt;</th>\n",
       "      <th>&lt;LOW&gt;</th>\n",
       "      <th>&lt;CLOSE&gt;</th>\n",
       "      <th>&lt;VOL&gt;</th>\n",
       "    </tr>\n",
       "  </thead>\n",
       "  <tbody>\n",
       "    <tr>\n",
       "      <th>0</th>\n",
       "      <td>ICE.BRN</td>\n",
       "      <td>M</td>\n",
       "      <td>20180901</td>\n",
       "      <td>77.69</td>\n",
       "      <td>83.41</td>\n",
       "      <td>75.64</td>\n",
       "      <td>82.98</td>\n",
       "      <td>3141389</td>\n",
       "    </tr>\n",
       "    <tr>\n",
       "      <th>1</th>\n",
       "      <td>ICE.BRN</td>\n",
       "      <td>M</td>\n",
       "      <td>20181001</td>\n",
       "      <td>82.97</td>\n",
       "      <td>86.74</td>\n",
       "      <td>74.58</td>\n",
       "      <td>74.59</td>\n",
       "      <td>4406167</td>\n",
       "    </tr>\n",
       "    <tr>\n",
       "      <th>2</th>\n",
       "      <td>ICE.BRN</td>\n",
       "      <td>M</td>\n",
       "      <td>20181101</td>\n",
       "      <td>74.69</td>\n",
       "      <td>74.99</td>\n",
       "      <td>57.78</td>\n",
       "      <td>59.07</td>\n",
       "      <td>4333185</td>\n",
       "    </tr>\n",
       "    <tr>\n",
       "      <th>3</th>\n",
       "      <td>ICE.BRN</td>\n",
       "      <td>M</td>\n",
       "      <td>20181201</td>\n",
       "      <td>59.98</td>\n",
       "      <td>63.73</td>\n",
       "      <td>50.22</td>\n",
       "      <td>54.15</td>\n",
       "      <td>3459773</td>\n",
       "    </tr>\n",
       "    <tr>\n",
       "      <th>4</th>\n",
       "      <td>ICE.BRN</td>\n",
       "      <td>M</td>\n",
       "      <td>20190101</td>\n",
       "      <td>54.12</td>\n",
       "      <td>63.15</td>\n",
       "      <td>52.51</td>\n",
       "      <td>61.22</td>\n",
       "      <td>3659813</td>\n",
       "    </tr>\n",
       "  </tbody>\n",
       "</table>\n",
       "</div>"
      ],
      "text/plain": [
       "  <TICKER> <PER>    <DATE>  <OPEN>  <HIGH>  <LOW>  <CLOSE>    <VOL>\n",
       "0  ICE.BRN     M  20180901   77.69   83.41  75.64    82.98  3141389\n",
       "1  ICE.BRN     M  20181001   82.97   86.74  74.58    74.59  4406167\n",
       "2  ICE.BRN     M  20181101   74.69   74.99  57.78    59.07  4333185\n",
       "3  ICE.BRN     M  20181201   59.98   63.73  50.22    54.15  3459773\n",
       "4  ICE.BRN     M  20190101   54.12   63.15  52.51    61.22  3659813"
      ]
     },
     "execution_count": 16,
     "metadata": {},
     "output_type": "execute_result"
    }
   ],
   "source": [
    "brent_df.head()"
   ]
  },
  {
   "cell_type": "code",
   "execution_count": 17,
   "id": "2a91504d-853e-4b4e-ad75-e62f8a8a7b95",
   "metadata": {},
   "outputs": [
    {
     "data": {
      "text/html": [
       "<div>\n",
       "<style scoped>\n",
       "    .dataframe tbody tr th:only-of-type {\n",
       "        vertical-align: middle;\n",
       "    }\n",
       "\n",
       "    .dataframe tbody tr th {\n",
       "        vertical-align: top;\n",
       "    }\n",
       "\n",
       "    .dataframe thead th {\n",
       "        text-align: right;\n",
       "    }\n",
       "</style>\n",
       "<table border=\"1\" class=\"dataframe\">\n",
       "  <thead>\n",
       "    <tr style=\"text-align: right;\">\n",
       "      <th></th>\n",
       "      <th>curs</th>\n",
       "      <th>nominal</th>\n",
       "      <th>date</th>\n",
       "    </tr>\n",
       "  </thead>\n",
       "  <tbody>\n",
       "    <tr>\n",
       "      <th>0</th>\n",
       "      <td>65.854527</td>\n",
       "      <td>1.0</td>\n",
       "      <td>2018-10-01</td>\n",
       "    </tr>\n",
       "    <tr>\n",
       "      <th>1</th>\n",
       "      <td>66.355681</td>\n",
       "      <td>1.0</td>\n",
       "      <td>2018-11-01</td>\n",
       "    </tr>\n",
       "    <tr>\n",
       "      <th>2</th>\n",
       "      <td>67.335314</td>\n",
       "      <td>1.0</td>\n",
       "      <td>2018-12-01</td>\n",
       "    </tr>\n",
       "    <tr>\n",
       "      <th>3</th>\n",
       "      <td>66.512544</td>\n",
       "      <td>1.0</td>\n",
       "      <td>2019-01-01</td>\n",
       "    </tr>\n",
       "    <tr>\n",
       "      <th>4</th>\n",
       "      <td>65.810525</td>\n",
       "      <td>1.0</td>\n",
       "      <td>2019-02-01</td>\n",
       "    </tr>\n",
       "  </tbody>\n",
       "</table>\n",
       "</div>"
      ],
      "text/plain": [
       "        curs  nominal        date\n",
       "0  65.854527      1.0  2018-10-01\n",
       "1  66.355681      1.0  2018-11-01\n",
       "2  67.335314      1.0  2018-12-01\n",
       "3  66.512544      1.0  2019-01-01\n",
       "4  65.810525      1.0  2019-02-01"
      ]
     },
     "execution_count": 17,
     "metadata": {},
     "output_type": "execute_result"
    }
   ],
   "source": [
    "dollar_df.head()"
   ]
  },
  {
   "cell_type": "code",
   "execution_count": null,
   "id": "be8e6eb8-97ab-4809-b7ca-132e1dfb4737",
   "metadata": {},
   "outputs": [],
   "source": []
  }
 ],
 "metadata": {
  "kernelspec": {
   "display_name": "Python 3 (ipykernel)",
   "language": "python",
   "name": "python3"
  },
  "language_info": {
   "codemirror_mode": {
    "name": "ipython",
    "version": 3
   },
   "file_extension": ".py",
   "mimetype": "text/x-python",
   "name": "python",
   "nbconvert_exporter": "python",
   "pygments_lexer": "ipython3",
   "version": "3.10.5"
  }
 },
 "nbformat": 4,
 "nbformat_minor": 5
}
