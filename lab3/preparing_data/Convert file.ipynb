{
 "cells": [
  {
   "cell_type": "code",
   "execution_count": 145,
   "id": "15495691-9f33-4669-9139-6bc777d4346a",
   "metadata": {},
   "outputs": [],
   "source": [
    "import pandas as pd\n",
    "import numpy as np"
   ]
  },
  {
   "cell_type": "markdown",
   "id": "eb24e80b-fe09-4645-ac83-d5db4de555f0",
   "metadata": {},
   "source": [
    "# Преобразование файла с курсом доллара"
   ]
  },
  {
   "cell_type": "markdown",
   "id": "406ecb56-901f-4b4f-a456-031cc3a0fe62",
   "metadata": {},
   "source": [
    "### Чтобы работало нужно установить openpyxl"
   ]
  },
  {
   "cell_type": "raw",
   "id": "213d10cc-751e-4741-9ae6-ecd305d4272b",
   "metadata": {},
   "source": [
    "pip install openpyxl"
   ]
  },
  {
   "cell_type": "code",
   "execution_count": 129,
   "id": "b9f5651a-3efc-4422-9758-275e4ec208d5",
   "metadata": {},
   "outputs": [
    {
     "name": "stderr",
     "output_type": "stream",
     "text": [
      "C:\\Users\\User\\AppData\\Local\\Programs\\Python\\Python310\\lib\\site-packages\\openpyxl\\styles\\stylesheet.py:226: UserWarning: Workbook contains no default style, apply openpyxl's default\n",
      "  warn(\"Workbook contains no default style, apply openpyxl's default\")\n"
     ]
    }
   ],
   "source": [
    "df = pd.read_excel('RC_F04_09_2018_T04_11_2022.xlsx')"
   ]
  },
  {
   "cell_type": "code",
   "execution_count": 133,
   "id": "28d489c9-f682-42ef-94cd-3dffb8deae8c",
   "metadata": {},
   "outputs": [
    {
     "data": {
      "text/html": [
       "<div>\n",
       "<style scoped>\n",
       "    .dataframe tbody tr th:only-of-type {\n",
       "        vertical-align: middle;\n",
       "    }\n",
       "\n",
       "    .dataframe tbody tr th {\n",
       "        vertical-align: top;\n",
       "    }\n",
       "\n",
       "    .dataframe thead th {\n",
       "        text-align: right;\n",
       "    }\n",
       "</style>\n",
       "<table border=\"1\" class=\"dataframe\">\n",
       "  <thead>\n",
       "    <tr style=\"text-align: right;\">\n",
       "      <th></th>\n",
       "      <th>nominal</th>\n",
       "      <th>data</th>\n",
       "      <th>curs</th>\n",
       "      <th>cdx</th>\n",
       "    </tr>\n",
       "  </thead>\n",
       "  <tbody>\n",
       "    <tr>\n",
       "      <th>0</th>\n",
       "      <td>1</td>\n",
       "      <td>2022-11-04</td>\n",
       "      <td>62.0955</td>\n",
       "      <td>Доллар США</td>\n",
       "    </tr>\n",
       "    <tr>\n",
       "      <th>1</th>\n",
       "      <td>1</td>\n",
       "      <td>2022-11-03</td>\n",
       "      <td>61.6175</td>\n",
       "      <td>Доллар США</td>\n",
       "    </tr>\n",
       "    <tr>\n",
       "      <th>2</th>\n",
       "      <td>1</td>\n",
       "      <td>2022-11-02</td>\n",
       "      <td>61.4275</td>\n",
       "      <td>Доллар США</td>\n",
       "    </tr>\n",
       "    <tr>\n",
       "      <th>3</th>\n",
       "      <td>1</td>\n",
       "      <td>2022-11-01</td>\n",
       "      <td>61.6229</td>\n",
       "      <td>Доллар США</td>\n",
       "    </tr>\n",
       "    <tr>\n",
       "      <th>4</th>\n",
       "      <td>1</td>\n",
       "      <td>2022-10-29</td>\n",
       "      <td>61.5343</td>\n",
       "      <td>Доллар США</td>\n",
       "    </tr>\n",
       "  </tbody>\n",
       "</table>\n",
       "</div>"
      ],
      "text/plain": [
       "   nominal       data     curs         cdx\n",
       "0        1 2022-11-04  62.0955  Доллар США\n",
       "1        1 2022-11-03  61.6175  Доллар США\n",
       "2        1 2022-11-02  61.4275  Доллар США\n",
       "3        1 2022-11-01  61.6229  Доллар США\n",
       "4        1 2022-10-29  61.5343  Доллар США"
      ]
     },
     "execution_count": 133,
     "metadata": {},
     "output_type": "execute_result"
    }
   ],
   "source": [
    "df.head()"
   ]
  },
  {
   "cell_type": "markdown",
   "id": "30639a95-d523-4afa-a1a1-e4168624f9a0",
   "metadata": {},
   "source": [
    "### Получаем из даты год, месяц и день для группировки"
   ]
  },
  {
   "cell_type": "code",
   "execution_count": 134,
   "id": "f5ee34af-9ab1-4b46-8855-fc637c8f1127",
   "metadata": {},
   "outputs": [],
   "source": [
    "df['month'] = df['data'].dt.month"
   ]
  },
  {
   "cell_type": "code",
   "execution_count": 135,
   "id": "e23d1661-429a-4c35-a3d6-978bdfd0150a",
   "metadata": {},
   "outputs": [],
   "source": [
    "df['day'] = df['data'].dt.day"
   ]
  },
  {
   "cell_type": "code",
   "execution_count": 136,
   "id": "05f0c035-1a91-4958-a11f-0649d8e95fd7",
   "metadata": {},
   "outputs": [],
   "source": [
    "df['year'] = df['data'].dt.year"
   ]
  },
  {
   "cell_type": "code",
   "execution_count": 137,
   "id": "4b8db399-58b1-4828-a723-b06e4a90b19f",
   "metadata": {},
   "outputs": [
    {
     "data": {
      "text/html": [
       "<div>\n",
       "<style scoped>\n",
       "    .dataframe tbody tr th:only-of-type {\n",
       "        vertical-align: middle;\n",
       "    }\n",
       "\n",
       "    .dataframe tbody tr th {\n",
       "        vertical-align: top;\n",
       "    }\n",
       "\n",
       "    .dataframe thead th {\n",
       "        text-align: right;\n",
       "    }\n",
       "</style>\n",
       "<table border=\"1\" class=\"dataframe\">\n",
       "  <thead>\n",
       "    <tr style=\"text-align: right;\">\n",
       "      <th></th>\n",
       "      <th>nominal</th>\n",
       "      <th>data</th>\n",
       "      <th>curs</th>\n",
       "      <th>cdx</th>\n",
       "      <th>month</th>\n",
       "      <th>day</th>\n",
       "      <th>year</th>\n",
       "    </tr>\n",
       "  </thead>\n",
       "  <tbody>\n",
       "    <tr>\n",
       "      <th>0</th>\n",
       "      <td>1</td>\n",
       "      <td>2022-11-04</td>\n",
       "      <td>62.0955</td>\n",
       "      <td>Доллар США</td>\n",
       "      <td>11</td>\n",
       "      <td>4</td>\n",
       "      <td>2022</td>\n",
       "    </tr>\n",
       "    <tr>\n",
       "      <th>1</th>\n",
       "      <td>1</td>\n",
       "      <td>2022-11-03</td>\n",
       "      <td>61.6175</td>\n",
       "      <td>Доллар США</td>\n",
       "      <td>11</td>\n",
       "      <td>3</td>\n",
       "      <td>2022</td>\n",
       "    </tr>\n",
       "    <tr>\n",
       "      <th>2</th>\n",
       "      <td>1</td>\n",
       "      <td>2022-11-02</td>\n",
       "      <td>61.4275</td>\n",
       "      <td>Доллар США</td>\n",
       "      <td>11</td>\n",
       "      <td>2</td>\n",
       "      <td>2022</td>\n",
       "    </tr>\n",
       "    <tr>\n",
       "      <th>3</th>\n",
       "      <td>1</td>\n",
       "      <td>2022-11-01</td>\n",
       "      <td>61.6229</td>\n",
       "      <td>Доллар США</td>\n",
       "      <td>11</td>\n",
       "      <td>1</td>\n",
       "      <td>2022</td>\n",
       "    </tr>\n",
       "    <tr>\n",
       "      <th>4</th>\n",
       "      <td>1</td>\n",
       "      <td>2022-10-29</td>\n",
       "      <td>61.5343</td>\n",
       "      <td>Доллар США</td>\n",
       "      <td>10</td>\n",
       "      <td>29</td>\n",
       "      <td>2022</td>\n",
       "    </tr>\n",
       "  </tbody>\n",
       "</table>\n",
       "</div>"
      ],
      "text/plain": [
       "   nominal       data     curs         cdx  month  day  year\n",
       "0        1 2022-11-04  62.0955  Доллар США     11    4  2022\n",
       "1        1 2022-11-03  61.6175  Доллар США     11    3  2022\n",
       "2        1 2022-11-02  61.4275  Доллар США     11    2  2022\n",
       "3        1 2022-11-01  61.6229  Доллар США     11    1  2022\n",
       "4        1 2022-10-29  61.5343  Доллар США     10   29  2022"
      ]
     },
     "execution_count": 137,
     "metadata": {},
     "output_type": "execute_result"
    }
   ],
   "source": [
    "df.head()"
   ]
  },
  {
   "cell_type": "markdown",
   "id": "c954b704-b498-468c-ac03-7d2d9bf419e0",
   "metadata": {},
   "source": [
    "### Группируем по году и месяцу и считаем средний курс за месяц"
   ]
  },
  {
   "cell_type": "code",
   "execution_count": 138,
   "id": "6ffb0aa1-c21a-437b-8919-8ca706e05a72",
   "metadata": {},
   "outputs": [],
   "source": [
    "df_average = df.groupby(['year','month']).mean('curs').iloc[1:].reset_index()"
   ]
  },
  {
   "cell_type": "code",
   "execution_count": 139,
   "id": "82e9a28d-6e69-4681-969c-9c39c74f6371",
   "metadata": {},
   "outputs": [
    {
     "data": {
      "text/html": [
       "<div>\n",
       "<style scoped>\n",
       "    .dataframe tbody tr th:only-of-type {\n",
       "        vertical-align: middle;\n",
       "    }\n",
       "\n",
       "    .dataframe tbody tr th {\n",
       "        vertical-align: top;\n",
       "    }\n",
       "\n",
       "    .dataframe thead th {\n",
       "        text-align: right;\n",
       "    }\n",
       "</style>\n",
       "<table border=\"1\" class=\"dataframe\">\n",
       "  <thead>\n",
       "    <tr style=\"text-align: right;\">\n",
       "      <th></th>\n",
       "      <th>year</th>\n",
       "      <th>month</th>\n",
       "      <th>nominal</th>\n",
       "      <th>curs</th>\n",
       "      <th>day</th>\n",
       "    </tr>\n",
       "  </thead>\n",
       "  <tbody>\n",
       "    <tr>\n",
       "      <th>0</th>\n",
       "      <td>2018</td>\n",
       "      <td>10</td>\n",
       "      <td>1.0</td>\n",
       "      <td>65.854527</td>\n",
       "      <td>15.954545</td>\n",
       "    </tr>\n",
       "    <tr>\n",
       "      <th>1</th>\n",
       "      <td>2018</td>\n",
       "      <td>11</td>\n",
       "      <td>1.0</td>\n",
       "      <td>66.355681</td>\n",
       "      <td>16.142857</td>\n",
       "    </tr>\n",
       "    <tr>\n",
       "      <th>2</th>\n",
       "      <td>2018</td>\n",
       "      <td>12</td>\n",
       "      <td>1.0</td>\n",
       "      <td>67.335314</td>\n",
       "      <td>16.409091</td>\n",
       "    </tr>\n",
       "    <tr>\n",
       "      <th>3</th>\n",
       "      <td>2019</td>\n",
       "      <td>1</td>\n",
       "      <td>1.0</td>\n",
       "      <td>66.512544</td>\n",
       "      <td>20.500000</td>\n",
       "    </tr>\n",
       "    <tr>\n",
       "      <th>4</th>\n",
       "      <td>2019</td>\n",
       "      <td>2</td>\n",
       "      <td>1.0</td>\n",
       "      <td>65.810525</td>\n",
       "      <td>14.700000</td>\n",
       "    </tr>\n",
       "  </tbody>\n",
       "</table>\n",
       "</div>"
      ],
      "text/plain": [
       "   year  month  nominal       curs        day\n",
       "0  2018     10      1.0  65.854527  15.954545\n",
       "1  2018     11      1.0  66.355681  16.142857\n",
       "2  2018     12      1.0  67.335314  16.409091\n",
       "3  2019      1      1.0  66.512544  20.500000\n",
       "4  2019      2      1.0  65.810525  14.700000"
      ]
     },
     "execution_count": 139,
     "metadata": {},
     "output_type": "execute_result"
    }
   ],
   "source": [
    "df_average.head()"
   ]
  },
  {
   "cell_type": "markdown",
   "id": "3b2c5c76-6393-4708-8d57-0061d8096c96",
   "metadata": {},
   "source": [
    "### Изменяем дату и возвращаем в единый формат"
   ]
  },
  {
   "cell_type": "code",
   "execution_count": 140,
   "id": "10fab371-cb4f-4fdd-af8a-a9665af4d1c5",
   "metadata": {},
   "outputs": [],
   "source": [
    "df_average['day'] = 1"
   ]
  },
  {
   "cell_type": "code",
   "execution_count": 141,
   "id": "5531f147-cffc-45cf-bd04-d66d1a6cd083",
   "metadata": {},
   "outputs": [],
   "source": [
    "df_average['date'] = pd.to_datetime(df_average.loc[:, [\"year\", \"month\", \"day\"]].astype(str))"
   ]
  },
  {
   "cell_type": "code",
   "execution_count": 142,
   "id": "dc21409c-4b71-4d8f-8692-d9b10a9ea1ad",
   "metadata": {},
   "outputs": [
    {
     "data": {
      "text/html": [
       "<div>\n",
       "<style scoped>\n",
       "    .dataframe tbody tr th:only-of-type {\n",
       "        vertical-align: middle;\n",
       "    }\n",
       "\n",
       "    .dataframe tbody tr th {\n",
       "        vertical-align: top;\n",
       "    }\n",
       "\n",
       "    .dataframe thead th {\n",
       "        text-align: right;\n",
       "    }\n",
       "</style>\n",
       "<table border=\"1\" class=\"dataframe\">\n",
       "  <thead>\n",
       "    <tr style=\"text-align: right;\">\n",
       "      <th></th>\n",
       "      <th>year</th>\n",
       "      <th>month</th>\n",
       "      <th>nominal</th>\n",
       "      <th>curs</th>\n",
       "      <th>day</th>\n",
       "      <th>date</th>\n",
       "    </tr>\n",
       "  </thead>\n",
       "  <tbody>\n",
       "    <tr>\n",
       "      <th>0</th>\n",
       "      <td>2018</td>\n",
       "      <td>10</td>\n",
       "      <td>1.0</td>\n",
       "      <td>65.854527</td>\n",
       "      <td>1</td>\n",
       "      <td>2018-10-01</td>\n",
       "    </tr>\n",
       "    <tr>\n",
       "      <th>1</th>\n",
       "      <td>2018</td>\n",
       "      <td>11</td>\n",
       "      <td>1.0</td>\n",
       "      <td>66.355681</td>\n",
       "      <td>1</td>\n",
       "      <td>2018-11-01</td>\n",
       "    </tr>\n",
       "    <tr>\n",
       "      <th>2</th>\n",
       "      <td>2018</td>\n",
       "      <td>12</td>\n",
       "      <td>1.0</td>\n",
       "      <td>67.335314</td>\n",
       "      <td>1</td>\n",
       "      <td>2018-12-01</td>\n",
       "    </tr>\n",
       "    <tr>\n",
       "      <th>3</th>\n",
       "      <td>2019</td>\n",
       "      <td>1</td>\n",
       "      <td>1.0</td>\n",
       "      <td>66.512544</td>\n",
       "      <td>1</td>\n",
       "      <td>2019-01-01</td>\n",
       "    </tr>\n",
       "    <tr>\n",
       "      <th>4</th>\n",
       "      <td>2019</td>\n",
       "      <td>2</td>\n",
       "      <td>1.0</td>\n",
       "      <td>65.810525</td>\n",
       "      <td>1</td>\n",
       "      <td>2019-02-01</td>\n",
       "    </tr>\n",
       "  </tbody>\n",
       "</table>\n",
       "</div>"
      ],
      "text/plain": [
       "   year  month  nominal       curs  day       date\n",
       "0  2018     10      1.0  65.854527    1 2018-10-01\n",
       "1  2018     11      1.0  66.355681    1 2018-11-01\n",
       "2  2018     12      1.0  67.335314    1 2018-12-01\n",
       "3  2019      1      1.0  66.512544    1 2019-01-01\n",
       "4  2019      2      1.0  65.810525    1 2019-02-01"
      ]
     },
     "execution_count": 142,
     "metadata": {},
     "output_type": "execute_result"
    }
   ],
   "source": [
    "df_average.head()"
   ]
  },
  {
   "cell_type": "markdown",
   "id": "c52236e4-b27d-480c-9818-1b50e4392d2e",
   "metadata": {},
   "source": [
    "### Выбираем только нужные столбцы"
   ]
  },
  {
   "cell_type": "code",
   "execution_count": 109,
   "id": "6b776264-a3bf-4810-b2f9-4cfea1173163",
   "metadata": {},
   "outputs": [
    {
     "data": {
      "text/html": [
       "<div>\n",
       "<style scoped>\n",
       "    .dataframe tbody tr th:only-of-type {\n",
       "        vertical-align: middle;\n",
       "    }\n",
       "\n",
       "    .dataframe tbody tr th {\n",
       "        vertical-align: top;\n",
       "    }\n",
       "\n",
       "    .dataframe thead th {\n",
       "        text-align: right;\n",
       "    }\n",
       "</style>\n",
       "<table border=\"1\" class=\"dataframe\">\n",
       "  <thead>\n",
       "    <tr style=\"text-align: right;\">\n",
       "      <th></th>\n",
       "      <th>curs</th>\n",
       "      <th>nominal</th>\n",
       "      <th>date</th>\n",
       "    </tr>\n",
       "  </thead>\n",
       "  <tbody>\n",
       "    <tr>\n",
       "      <th>0</th>\n",
       "      <td>65.854527</td>\n",
       "      <td>1.0</td>\n",
       "      <td>2018-10-01</td>\n",
       "    </tr>\n",
       "    <tr>\n",
       "      <th>1</th>\n",
       "      <td>66.355681</td>\n",
       "      <td>1.0</td>\n",
       "      <td>2018-11-01</td>\n",
       "    </tr>\n",
       "    <tr>\n",
       "      <th>2</th>\n",
       "      <td>67.335314</td>\n",
       "      <td>1.0</td>\n",
       "      <td>2018-12-01</td>\n",
       "    </tr>\n",
       "    <tr>\n",
       "      <th>3</th>\n",
       "      <td>66.512544</td>\n",
       "      <td>1.0</td>\n",
       "      <td>2019-01-01</td>\n",
       "    </tr>\n",
       "    <tr>\n",
       "      <th>4</th>\n",
       "      <td>65.810525</td>\n",
       "      <td>1.0</td>\n",
       "      <td>2019-02-01</td>\n",
       "    </tr>\n",
       "  </tbody>\n",
       "</table>\n",
       "</div>"
      ],
      "text/plain": [
       "        curs  nominal       date\n",
       "0  65.854527      1.0 2018-10-01\n",
       "1  66.355681      1.0 2018-11-01\n",
       "2  67.335314      1.0 2018-12-01\n",
       "3  66.512544      1.0 2019-01-01\n",
       "4  65.810525      1.0 2019-02-01"
      ]
     },
     "execution_count": 109,
     "metadata": {},
     "output_type": "execute_result"
    }
   ],
   "source": [
    "lst_df = df_average[['curs','nominal','date']]\n",
    "lst_df.head()"
   ]
  },
  {
   "cell_type": "markdown",
   "id": "4c8e5c47-98f6-4ba4-ad00-907a285197f0",
   "metadata": {},
   "source": [
    "### Записываем в csv файл"
   ]
  },
  {
   "cell_type": "code",
   "execution_count": 143,
   "id": "6645d1bc-fa86-49ee-96b7-990c008cb3b6",
   "metadata": {},
   "outputs": [],
   "source": [
    "file_name = 'dollar_curs'"
   ]
  },
  {
   "cell_type": "code",
   "execution_count": 144,
   "id": "c9f65107-5d61-4407-a3cd-42302960622d",
   "metadata": {},
   "outputs": [],
   "source": [
    "lst_df.to_csv(file_name, sep=';')"
   ]
  }
 ],
 "metadata": {
  "kernelspec": {
   "display_name": "Python 3 (ipykernel)",
   "language": "python",
   "name": "python3"
  },
  "language_info": {
   "codemirror_mode": {
    "name": "ipython",
    "version": 3
   },
   "file_extension": ".py",
   "mimetype": "text/x-python",
   "name": "python",
   "nbconvert_exporter": "python",
   "pygments_lexer": "ipython3",
   "version": "3.10.5"
  }
 },
 "nbformat": 4,
 "nbformat_minor": 5
}
