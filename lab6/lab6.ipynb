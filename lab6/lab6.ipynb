{
 "cells": [
  {
   "cell_type": "markdown",
   "id": "917cc513",
   "metadata": {},
   "source": [
    "# 1, 2 задание"
   ]
  },
  {
   "cell_type": "code",
   "execution_count": 113,
   "id": "3a82bafb",
   "metadata": {},
   "outputs": [],
   "source": [
    "import pandas as pd"
   ]
  },
  {
   "cell_type": "code",
   "execution_count": 114,
   "id": "75fd74d4",
   "metadata": {},
   "outputs": [
    {
     "data": {
      "text/html": [
       "<div>\n",
       "<style scoped>\n",
       "    .dataframe tbody tr th:only-of-type {\n",
       "        vertical-align: middle;\n",
       "    }\n",
       "\n",
       "    .dataframe tbody tr th {\n",
       "        vertical-align: top;\n",
       "    }\n",
       "\n",
       "    .dataframe thead th {\n",
       "        text-align: right;\n",
       "    }\n",
       "</style>\n",
       "<table border=\"1\" class=\"dataframe\">\n",
       "  <thead>\n",
       "    <tr style=\"text-align: right;\">\n",
       "      <th></th>\n",
       "      <th>FixedAcidity</th>\n",
       "      <th>VolatileAcidity</th>\n",
       "      <th>CitricAcid</th>\n",
       "      <th>ResidualSugar</th>\n",
       "      <th>Chlorides</th>\n",
       "      <th>FreeSulfurDioxide</th>\n",
       "      <th>TotalSulfurDioxide</th>\n",
       "      <th>Density</th>\n",
       "      <th>PH</th>\n",
       "      <th>Sulphates</th>\n",
       "      <th>Alcohol</th>\n",
       "      <th>Quality</th>\n",
       "    </tr>\n",
       "  </thead>\n",
       "  <tbody>\n",
       "    <tr>\n",
       "      <th>0</th>\n",
       "      <td>7.0</td>\n",
       "      <td>0.27</td>\n",
       "      <td>0.36</td>\n",
       "      <td>20.7</td>\n",
       "      <td>0.045</td>\n",
       "      <td>45.0</td>\n",
       "      <td>170.0</td>\n",
       "      <td>1.00100</td>\n",
       "      <td>3.00</td>\n",
       "      <td>0.45</td>\n",
       "      <td>8.8</td>\n",
       "      <td>6</td>\n",
       "    </tr>\n",
       "    <tr>\n",
       "      <th>1</th>\n",
       "      <td>6.3</td>\n",
       "      <td>0.30</td>\n",
       "      <td>0.34</td>\n",
       "      <td>1.6</td>\n",
       "      <td>0.049</td>\n",
       "      <td>14.0</td>\n",
       "      <td>132.0</td>\n",
       "      <td>0.99400</td>\n",
       "      <td>3.30</td>\n",
       "      <td>0.49</td>\n",
       "      <td>9.5</td>\n",
       "      <td>6</td>\n",
       "    </tr>\n",
       "    <tr>\n",
       "      <th>2</th>\n",
       "      <td>8.1</td>\n",
       "      <td>0.28</td>\n",
       "      <td>0.40</td>\n",
       "      <td>6.9</td>\n",
       "      <td>0.050</td>\n",
       "      <td>30.0</td>\n",
       "      <td>97.0</td>\n",
       "      <td>0.99510</td>\n",
       "      <td>3.26</td>\n",
       "      <td>0.44</td>\n",
       "      <td>10.1</td>\n",
       "      <td>6</td>\n",
       "    </tr>\n",
       "    <tr>\n",
       "      <th>3</th>\n",
       "      <td>7.2</td>\n",
       "      <td>0.23</td>\n",
       "      <td>0.32</td>\n",
       "      <td>8.5</td>\n",
       "      <td>0.058</td>\n",
       "      <td>47.0</td>\n",
       "      <td>186.0</td>\n",
       "      <td>0.99560</td>\n",
       "      <td>3.19</td>\n",
       "      <td>0.40</td>\n",
       "      <td>9.9</td>\n",
       "      <td>6</td>\n",
       "    </tr>\n",
       "    <tr>\n",
       "      <th>4</th>\n",
       "      <td>7.2</td>\n",
       "      <td>0.23</td>\n",
       "      <td>0.32</td>\n",
       "      <td>8.5</td>\n",
       "      <td>0.058</td>\n",
       "      <td>47.0</td>\n",
       "      <td>186.0</td>\n",
       "      <td>0.99560</td>\n",
       "      <td>3.19</td>\n",
       "      <td>0.40</td>\n",
       "      <td>9.9</td>\n",
       "      <td>6</td>\n",
       "    </tr>\n",
       "    <tr>\n",
       "      <th>...</th>\n",
       "      <td>...</td>\n",
       "      <td>...</td>\n",
       "      <td>...</td>\n",
       "      <td>...</td>\n",
       "      <td>...</td>\n",
       "      <td>...</td>\n",
       "      <td>...</td>\n",
       "      <td>...</td>\n",
       "      <td>...</td>\n",
       "      <td>...</td>\n",
       "      <td>...</td>\n",
       "      <td>...</td>\n",
       "    </tr>\n",
       "    <tr>\n",
       "      <th>4893</th>\n",
       "      <td>6.2</td>\n",
       "      <td>0.21</td>\n",
       "      <td>0.29</td>\n",
       "      <td>1.6</td>\n",
       "      <td>0.039</td>\n",
       "      <td>24.0</td>\n",
       "      <td>92.0</td>\n",
       "      <td>0.99114</td>\n",
       "      <td>3.27</td>\n",
       "      <td>0.50</td>\n",
       "      <td>11.2</td>\n",
       "      <td>6</td>\n",
       "    </tr>\n",
       "    <tr>\n",
       "      <th>4894</th>\n",
       "      <td>6.6</td>\n",
       "      <td>0.32</td>\n",
       "      <td>0.36</td>\n",
       "      <td>8.0</td>\n",
       "      <td>0.047</td>\n",
       "      <td>57.0</td>\n",
       "      <td>168.0</td>\n",
       "      <td>0.99490</td>\n",
       "      <td>3.15</td>\n",
       "      <td>0.46</td>\n",
       "      <td>9.6</td>\n",
       "      <td>5</td>\n",
       "    </tr>\n",
       "    <tr>\n",
       "      <th>4895</th>\n",
       "      <td>6.5</td>\n",
       "      <td>0.24</td>\n",
       "      <td>0.19</td>\n",
       "      <td>1.2</td>\n",
       "      <td>0.041</td>\n",
       "      <td>30.0</td>\n",
       "      <td>111.0</td>\n",
       "      <td>0.99254</td>\n",
       "      <td>2.99</td>\n",
       "      <td>0.46</td>\n",
       "      <td>9.4</td>\n",
       "      <td>6</td>\n",
       "    </tr>\n",
       "    <tr>\n",
       "      <th>4896</th>\n",
       "      <td>5.5</td>\n",
       "      <td>0.29</td>\n",
       "      <td>0.30</td>\n",
       "      <td>1.1</td>\n",
       "      <td>0.022</td>\n",
       "      <td>20.0</td>\n",
       "      <td>110.0</td>\n",
       "      <td>0.98869</td>\n",
       "      <td>3.34</td>\n",
       "      <td>0.38</td>\n",
       "      <td>12.8</td>\n",
       "      <td>7</td>\n",
       "    </tr>\n",
       "    <tr>\n",
       "      <th>4897</th>\n",
       "      <td>6.0</td>\n",
       "      <td>0.21</td>\n",
       "      <td>0.38</td>\n",
       "      <td>0.8</td>\n",
       "      <td>0.020</td>\n",
       "      <td>22.0</td>\n",
       "      <td>98.0</td>\n",
       "      <td>0.98941</td>\n",
       "      <td>3.26</td>\n",
       "      <td>0.32</td>\n",
       "      <td>11.8</td>\n",
       "      <td>6</td>\n",
       "    </tr>\n",
       "  </tbody>\n",
       "</table>\n",
       "<p>4898 rows × 12 columns</p>\n",
       "</div>"
      ],
      "text/plain": [
       "      FixedAcidity  VolatileAcidity  CitricAcid  ResidualSugar  Chlorides  \\\n",
       "0              7.0             0.27        0.36           20.7      0.045   \n",
       "1              6.3             0.30        0.34            1.6      0.049   \n",
       "2              8.1             0.28        0.40            6.9      0.050   \n",
       "3              7.2             0.23        0.32            8.5      0.058   \n",
       "4              7.2             0.23        0.32            8.5      0.058   \n",
       "...            ...              ...         ...            ...        ...   \n",
       "4893           6.2             0.21        0.29            1.6      0.039   \n",
       "4894           6.6             0.32        0.36            8.0      0.047   \n",
       "4895           6.5             0.24        0.19            1.2      0.041   \n",
       "4896           5.5             0.29        0.30            1.1      0.022   \n",
       "4897           6.0             0.21        0.38            0.8      0.020   \n",
       "\n",
       "      FreeSulfurDioxide  TotalSulfurDioxide  Density    PH  Sulphates  \\\n",
       "0                  45.0               170.0  1.00100  3.00       0.45   \n",
       "1                  14.0               132.0  0.99400  3.30       0.49   \n",
       "2                  30.0                97.0  0.99510  3.26       0.44   \n",
       "3                  47.0               186.0  0.99560  3.19       0.40   \n",
       "4                  47.0               186.0  0.99560  3.19       0.40   \n",
       "...                 ...                 ...      ...   ...        ...   \n",
       "4893               24.0                92.0  0.99114  3.27       0.50   \n",
       "4894               57.0               168.0  0.99490  3.15       0.46   \n",
       "4895               30.0               111.0  0.99254  2.99       0.46   \n",
       "4896               20.0               110.0  0.98869  3.34       0.38   \n",
       "4897               22.0                98.0  0.98941  3.26       0.32   \n",
       "\n",
       "      Alcohol  Quality  \n",
       "0         8.8        6  \n",
       "1         9.5        6  \n",
       "2        10.1        6  \n",
       "3         9.9        6  \n",
       "4         9.9        6  \n",
       "...       ...      ...  \n",
       "4893     11.2        6  \n",
       "4894      9.6        5  \n",
       "4895      9.4        6  \n",
       "4896     12.8        7  \n",
       "4897     11.8        6  \n",
       "\n",
       "[4898 rows x 12 columns]"
      ]
     },
     "execution_count": 114,
     "metadata": {},
     "output_type": "execute_result"
    }
   ],
   "source": [
    "df = pd.read_csv('winequality-white.csv')\n",
    "df"
   ]
  },
  {
   "cell_type": "markdown",
   "id": "ddb6ccfc",
   "metadata": {},
   "source": [
    "# 3 Задание"
   ]
  },
  {
   "cell_type": "code",
   "execution_count": 115,
   "id": "439ea164",
   "metadata": {},
   "outputs": [],
   "source": [
    "import numpy as np\n",
    "import matplotlib.pyplot as plt\n",
    "from matplotlib.patches import Ellipse\n",
    "import matplotlib.transforms as transforms\n",
    "import math"
   ]
  },
  {
   "cell_type": "code",
   "execution_count": 116,
   "id": "cdd606a3-785c-49be-bc6d-c21235af289a",
   "metadata": {},
   "outputs": [
    {
     "data": {
      "image/png": "[encoded data removed]",
      "text/plain": [
       "<Figure size 500x500 with 1 Axes>"
      ]
     },
     "metadata": {},
     "output_type": "display_data"
    }
   ],
   "source": [
    "#pd.set_option('display.max_colums' , 2000)\n",
    "#pd.set_option('display.width' , 2000)\n",
    "\n",
    "fig, ax = plt.subplots(figsize = (5, 5))\n",
    "ax.scatter(df['FixedAcidity'], df['VolatileAcidity'], s = 1)\n",
    "plt.show()"
   ]
  },
  {
   "cell_type": "markdown",
   "id": "e8f586a0-efa9-4008-adb9-10e08e2c07c6",
   "metadata": {},
   "source": [
    "Строим предиктивный эллипс"
   ]
  },
  {
   "cell_type": "code",
   "execution_count": 117,
   "id": "44eab7fa-1ad6-48b7-8483-1ba5acb47654",
   "metadata": {},
   "outputs": [],
   "source": [
    "x = df['Alcohol'] \n",
    "y = df['ResidualSugar']"
   ]
  },
  {
   "cell_type": "code",
   "execution_count": 118,
   "id": "be636eea-276c-4c02-b6b6-e558769f7399",
   "metadata": {},
   "outputs": [],
   "source": [
    "def confidence_ellipse(x, y, ax, p_value, facecolor='none', **kwargs):\n",
    "    \n",
    "    if x.size != y.size:\n",
    "        raise ValueError(\"x and y must be the same size\")\n",
    "\n",
    "    cov = np.cov(x, y)\n",
    "    pearson = cov[0, 1]/np.sqrt(cov[0, 0] * cov[1, 1])\n",
    "\n",
    "    ell_radius_x = np.sqrt(1 + pearson)\n",
    "    ell_radius_y = np.sqrt(1 - pearson)\n",
    "    ellipse = Ellipse((0, 0), width=ell_radius_x * 2, height=ell_radius_y * 2,\n",
    "                      facecolor=facecolor, **kwargs)\n",
    "\n",
    "    if p_value > 0 and p_value < 1:\n",
    "        n_std = math.sqrt(-2 * math.log(p_value))\n",
    "    else:\n",
    "        print('P-value должно быть в интервале от 0 до 1')\n",
    "    \n",
    "    scale_x = np.sqrt(cov[0, 0]) * n_std\n",
    "    mean_x = np.mean(x)\n",
    "\n",
    "    # calculating the standard deviation of y ...\n",
    "    scale_y = np.sqrt(cov[1, 1]) * n_std\n",
    "    mean_y = np.mean(y)\n",
    "\n",
    "    transf = transforms.Affine2D() \\\n",
    "        .rotate_deg(45) \\\n",
    "        .scale(scale_x, scale_y) \\\n",
    "        .translate(mean_x, mean_y)\n",
    "\n",
    "    ellipse.set_transform(transf + ax.transData)\n",
    "    return ax.add_patch(ellipse)"
   ]
  },
  {
   "cell_type": "markdown",
   "id": "e5902b9b-08eb-4575-a245-12bb6353e94e",
   "metadata": {},
   "source": [
    "Значения ставим 0,1 0,05 0,01"
   ]
  },
  {
   "cell_type": "code",
   "execution_count": 119,
   "id": "14946379-448c-46fd-92c9-54a66f8b3e9d",
   "metadata": {},
   "outputs": [
    {
     "data": {
      "image/png": "[encoded data removed]",
      "text/plain": [
       "<Figure size 800x800 with 1 Axes>"
      ]
     },
     "metadata": {},
     "output_type": "display_data"
    }
   ],
   "source": [
    "fig, ax = plt.subplots(figsize = (8, 8))\n",
    "confidence_ellipse(x, y, ax, 0.05, edgecolor='red')\n",
    "ax.scatter(x, y, s = 1)\n",
    "plt.show()"
   ]
  },
  {
   "cell_type": "markdown",
   "id": "c2f523a7",
   "metadata": {},
   "source": [
    "# 4 Задание"
   ]
  },
  {
   "cell_type": "markdown",
   "id": "c5e3a246",
   "metadata": {},
   "source": [
    "Стандартизация данных"
   ]
  },
  {
   "cell_type": "code",
   "execution_count": 120,
   "id": "7a824698-d4b1-475b-8385-7c189765c695",
   "metadata": {},
   "outputs": [],
   "source": [
    "from sklearn.preprocessing import StandardScaler\n",
    "import numpy as np"
   ]
  },
  {
   "cell_type": "code",
   "execution_count": 121,
   "id": "03822de1-1939-48be-8db5-0705e8d1c19c",
   "metadata": {},
   "outputs": [
    {
     "data": {
      "text/plain": [
       "array([[ 1.72096961e-01, -8.17699008e-02,  2.13280202e-01, ...,\n",
       "        -1.24692128e+00, -3.49184257e-01, -1.39315246e+00],\n",
       "       [-6.57501128e-01,  2.15895632e-01,  4.80011213e-02, ...,\n",
       "         7.40028640e-01,  1.34184656e-03, -8.24275678e-01],\n",
       "       [ 1.47575110e+00,  1.74519434e-02,  5.43838363e-01, ...,\n",
       "         4.75101984e-01, -4.36815783e-01, -3.36667007e-01],\n",
       "       ...,\n",
       "       [-4.20473102e-01, -3.79435433e-01, -1.19159198e+00, ...,\n",
       "        -1.31315295e+00, -2.61552731e-01, -9.05543789e-01],\n",
       "       [-1.60561323e+00,  1.16673788e-01, -2.82557040e-01, ...,\n",
       "         1.00495530e+00, -9.62604939e-01,  1.85757201e+00],\n",
       "       [-1.01304317e+00, -6.77100966e-01,  3.78559282e-01, ...,\n",
       "         4.75101984e-01, -1.48839409e+00,  1.04489089e+00]])"
      ]
     },
     "execution_count": 121,
     "metadata": {},
     "output_type": "execute_result"
    }
   ],
   "source": [
    "df1 = df.iloc[:, :-1]\n",
    "\n",
    "scaler = StandardScaler()\n",
    "df1 = scaler.fit_transform(df1)\n",
    "df1"
   ]
  },
  {
   "cell_type": "markdown",
   "id": "31d2d5eb",
   "metadata": {},
   "source": [
    "# 5 Задание"
   ]
  },
  {
   "cell_type": "markdown",
   "id": "0fa2616e-767c-419e-bdce-1afc7e01b1cf",
   "metadata": {},
   "source": [
    "Рассчет главных компонент"
   ]
  },
  {
   "cell_type": "code",
   "execution_count": 122,
   "id": "f9e3d13a-03de-44bd-973a-f2fbf3ea446c",
   "metadata": {},
   "outputs": [],
   "source": [
    "from sklearn.decomposition import PCA\n",
    "\n",
    "pca = PCA(n_components = 11)\n",
    "df_train = pca.fit_transform(df1)"
   ]
  },
  {
   "cell_type": "markdown",
   "id": "4b00b9f1-ab90-45f0-bc3a-1e3064f096d6",
   "metadata": {},
   "source": [
    "Матрица ковариаций"
   ]
  },
  {
   "cell_type": "code",
   "execution_count": 123,
   "id": "ce7be170-9eb7-46b5-b826-a5b198d321b2",
   "metadata": {},
   "outputs": [
    {
     "name": "stdout",
     "output_type": "stream",
     "text": [
      "[[ 1.00020421e+00 -2.27019251e-02  2.89239750e-01  8.90388800e-02\n",
      "   2.30903579e-02 -4.94059460e-02  9.10883532e-02  2.65385196e-01\n",
      "  -4.25945254e-01 -1.71464857e-02 -1.20905808e-01]\n",
      " [-2.27019251e-02  1.00020421e+00 -1.49502334e-01  6.42991877e-02\n",
      "   7.05259704e-02 -9.70317498e-02  8.92787311e-02  2.71193823e-02\n",
      "  -3.19218856e-02 -3.57354428e-02  6.77317712e-02]\n",
      " [ 2.89239750e-01 -1.49502334e-01  1.00020421e+00  9.42308629e-02\n",
      "   1.14387802e-01  9.40964322e-02  1.21155533e-01  1.49533100e-01\n",
      "  -1.63781650e-01  6.23436687e-02 -7.57441944e-02]\n",
      " [ 8.90388800e-02  6.42991877e-02  9.42308629e-02  1.00020421e+00\n",
      "   8.87026459e-02  2.99159432e-01  4.01521288e-01  8.39137777e-01\n",
      "  -1.94173097e-01 -2.66698109e-02 -4.50723244e-01]\n",
      " [ 2.30903579e-02  7.05259704e-02  1.14387802e-01  8.87026459e-02\n",
      "   1.00020421e+00  1.01413057e-01  1.98950918e-01  2.57263845e-01\n",
      "  -9.04579243e-02  1.67663068e-02 -3.60262265e-01]\n",
      " [-4.94059460e-02 -9.70317498e-02  9.40964322e-02  2.99159432e-01\n",
      "   1.01413057e-01  1.00020421e+00  6.15626654e-01  2.94270491e-01\n",
      "  -6.17922298e-04  5.92293384e-02 -2.50155014e-01]\n",
      " [ 9.10883532e-02  8.92787311e-02  1.21155533e-01  4.01521288e-01\n",
      "   1.98950918e-01  6.15626654e-01  1.00020421e+00  5.29989529e-01\n",
      "   2.32144573e-03  1.34589845e-01 -4.48983769e-01]\n",
      " [ 2.65385196e-01  2.71193823e-02  1.49533100e-01  8.39137777e-01\n",
      "   2.57263845e-01  2.94270491e-01  5.29989529e-01  1.00020421e+00\n",
      "  -9.36106055e-02  7.45083605e-02 -7.80296931e-01]\n",
      " [-4.25945254e-01 -3.19218856e-02 -1.63781650e-01 -1.94173097e-01\n",
      "  -9.04579243e-02 -6.17922298e-04  2.32144573e-03 -9.36106055e-02\n",
      "   1.00020421e+00  1.55983344e-01  1.21456896e-01]\n",
      " [-1.71464857e-02 -3.57354428e-02  6.23436687e-02 -2.66698109e-02\n",
      "   1.67663068e-02  5.92293384e-02  1.34589845e-01  7.45083605e-02\n",
      "   1.55983344e-01  1.00020421e+00 -1.74363317e-02]\n",
      " [-1.20905808e-01  6.77317712e-02 -7.57441944e-02 -4.50723244e-01\n",
      "  -3.60262265e-01 -2.50155014e-01 -4.48983769e-01 -7.80296931e-01\n",
      "   1.21456896e-01 -1.74363317e-02  1.00020421e+00]]\n"
     ]
    }
   ],
   "source": [
    "cov = pca.get_covariance()\n",
    "print(cov)"
   ]
  },
  {
   "cell_type": "markdown",
   "id": "00e1f3e9-c79f-4280-afa5-7449a9dc04de",
   "metadata": {},
   "source": [
    "Матрица преобразования"
   ]
  },
  {
   "cell_type": "code",
   "execution_count": 124,
   "id": "e545deb1-2c58-42bf-a1f6-437209bddf09",
   "metadata": {},
   "outputs": [
    {
     "name": "stdout",
     "output_type": "stream",
     "text": [
      "[3.2229119  0.0206533  1.57556161 0.28954625 0.41422824 1.22192081\n",
      " 0.59948087 0.7267464  0.93893321 0.97353334 1.01873034]\n"
     ]
    }
   ],
   "source": [
    "[en, ev] = np.linalg.eig(cov)\n",
    "print(en)"
   ]
  },
  {
   "cell_type": "markdown",
   "id": "a90b34fb-7ff3-4a74-95db-7b14569f9d90",
   "metadata": {},
   "source": [
    "Матрица преобразования другая"
   ]
  },
  {
   "cell_type": "code",
   "execution_count": 125,
   "id": "ff18972a-d2ef-46b7-9065-4e6461ce1402",
   "metadata": {},
   "outputs": [
    {
     "name": "stdout",
     "output_type": "stream",
     "text": [
      "[3.2229119  1.57556161 1.22192081 1.01873034 0.97353334 0.93893321\n",
      " 0.7267464  0.59948087 0.41422824 0.28954625 0.0206533 ]\n"
     ]
    }
   ],
   "source": [
    "comp = pca.components_\n",
    "explained_variance = pca.explained_variance_\n",
    "print(explained_variance)\n",
    "# print(comp)\n",
    "# print(comp.T)"
   ]
  },
  {
   "cell_type": "markdown",
   "id": "bae46e27",
   "metadata": {},
   "source": [
    "# 6 Задание"
   ]
  },
  {
   "cell_type": "markdown",
   "id": "1afd9f53-15f5-4791-a3c7-3adcc9c3649c",
   "metadata": {},
   "source": [
    "Оценка информативности координат"
   ]
  },
  {
   "cell_type": "code",
   "execution_count": 126,
   "id": "4a1620ef-a9c9-4755-9a77-664ed260d0f0",
   "metadata": {},
   "outputs": [
    {
     "name": "stdout",
     "output_type": "stream",
     "text": [
      "[3.2229118963275942, 1.5755616055612753, 1.221920813274392, 1.018730343715749, 0.9735333410659274, 0.938933208698629, 0.7267463991023966, 0.5994808726345695, 0.41422823663926145, 0.2895462537701364, 0.020653302438582453]\n",
      "[0.29293217 0.14320363 0.11106103 0.09259294 0.08848496 0.08534014\n",
      " 0.06605437 0.05448713 0.03764942 0.02631701 0.00187719]\n"
     ]
    }
   ],
   "source": [
    "#print(en)\n",
    "en_sorted = sorted(en, reverse = True)\n",
    "print(en_sorted)\n",
    "en_r = en_sorted / en.sum()\n",
    "print(en_r)\n",
    "\n",
    "# explained_variance_ratio = pca.explained_variance_ratio_\n",
    "# print(explained_variance_ratio_)"
   ]
  },
  {
   "cell_type": "markdown",
   "id": "51ea7895-54c8-432d-bcdd-e264f5d56b7c",
   "metadata": {},
   "source": [
    "Координата PC1 - это 29% изменчивости данных, две первые координаты - это 44% изменчивости данных, для 3 - 54%; для 4 - 64% "
   ]
  },
  {
   "cell_type": "code",
   "execution_count": 127,
   "id": "faf4e758-b08c-480f-8470-89d8510b8e75",
   "metadata": {},
   "outputs": [
    {
     "name": "stdout",
     "output_type": "stream",
     "text": [
      "Достаточно 9 главных компонент для информативности 95%\n"
     ]
    }
   ],
   "source": [
    "sum = en_r[0]\n",
    "for i in range(1, 10):\n",
    "    if (sum < 0.95):\n",
    "        sum += en_r[i]\n",
    "    else:\n",
    "        print('Достаточно', i, 'главных компонент для информативности 95%')"
   ]
  },
  {
   "cell_type": "markdown",
   "id": "09da1957",
   "metadata": {},
   "source": [
    "# 7 Задание"
   ]
  },
  {
   "cell_type": "markdown",
   "id": "d183a24f-165a-4aa3-9544-66f4ccdebc72",
   "metadata": {},
   "source": [
    "Метод Кайзера"
   ]
  },
  {
   "cell_type": "code",
   "execution_count": 128,
   "id": "8ce94708-af99-4474-932c-76b8d922723b",
   "metadata": {},
   "outputs": [
    {
     "name": "stdout",
     "output_type": "stream",
     "text": [
      "Значения больше 1 имеют 4 главных компонент\n"
     ]
    }
   ],
   "source": [
    "m = 0\n",
    "for i in range(0, 10):\n",
    "    if (en_sorted[i] >= 1):\n",
    "        m += 1\n",
    "    else:\n",
    "        break\n",
    "        \n",
    "print(f'Значения больше 1 имеют {m} главных компонент')\n"
   ]
  }
 ],
 "metadata": {
  "kernelspec": {
   "display_name": "Python 3 (ipykernel)",
   "language": "python",
   "name": "python3"
  },
  "language_info": {
   "codemirror_mode": {
    "name": "ipython",
    "version": 3
   },
   "file_extension": ".py",
   "mimetype": "text/x-python",
   "name": "python",
   "nbconvert_exporter": "python",
   "pygments_lexer": "ipython3",
   "version": "3.9.13"
  }
 },
 "nbformat": 4,
 "nbformat_minor": 5
}
