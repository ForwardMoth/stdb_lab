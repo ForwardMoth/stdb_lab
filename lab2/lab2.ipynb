{
 "cells": [
  {
   "cell_type": "markdown",
   "id": "f4decf33",
   "metadata": {},
   "source": [
    "# 1 Задание"
   ]
  },
  {
   "cell_type": "code",
   "execution_count": 5,
   "id": "5569aaf0",
   "metadata": {},
   "outputs": [],
   "source": [
    "import pandas as pd"
   ]
  },
  {
   "cell_type": "code",
   "execution_count": 6,
   "id": "cc7d23d1",
   "metadata": {},
   "outputs": [],
   "source": [
    "pd.set_option('display.max_columns', 15)\n",
    "pd.set_option('display.width', 2000)"
   ]
  },
  {
   "cell_type": "markdown",
   "id": "ae9969db",
   "metadata": {},
   "source": [
    "### Импорт данных и вывод первых 5 строк"
   ]
  },
  {
   "cell_type": "code",
   "execution_count": 7,
   "id": "3f905d9e",
   "metadata": {},
   "outputs": [
    {
     "data": {
      "text/html": [
       "<div>\n",
       "<style scoped>\n",
       "    .dataframe tbody tr th:only-of-type {\n",
       "        vertical-align: middle;\n",
       "    }\n",
       "\n",
       "    .dataframe tbody tr th {\n",
       "        vertical-align: top;\n",
       "    }\n",
       "\n",
       "    .dataframe thead th {\n",
       "        text-align: right;\n",
       "    }\n",
       "</style>\n",
       "<table border=\"1\" class=\"dataframe\">\n",
       "  <thead>\n",
       "    <tr style=\"text-align: right;\">\n",
       "      <th></th>\n",
       "      <th>eventid</th>\n",
       "      <th>iyear</th>\n",
       "      <th>imonth</th>\n",
       "      <th>iday</th>\n",
       "      <th>approxdate</th>\n",
       "      <th>extended</th>\n",
       "      <th>resolution</th>\n",
       "      <th>...</th>\n",
       "      <th>scite3</th>\n",
       "      <th>dbsource</th>\n",
       "      <th>INT_LOG</th>\n",
       "      <th>INT_IDEO</th>\n",
       "      <th>INT_MISC</th>\n",
       "      <th>INT_ANY</th>\n",
       "      <th>related</th>\n",
       "    </tr>\n",
       "  </thead>\n",
       "  <tbody>\n",
       "    <tr>\n",
       "      <th>0</th>\n",
       "      <td>197000000001</td>\n",
       "      <td>1970</td>\n",
       "      <td>7</td>\n",
       "      <td>2</td>\n",
       "      <td>NaN</td>\n",
       "      <td>0</td>\n",
       "      <td>NaN</td>\n",
       "      <td>...</td>\n",
       "      <td>NaN</td>\n",
       "      <td>PGIS</td>\n",
       "      <td>0</td>\n",
       "      <td>0</td>\n",
       "      <td>0</td>\n",
       "      <td>0</td>\n",
       "      <td>NaN</td>\n",
       "    </tr>\n",
       "    <tr>\n",
       "      <th>1</th>\n",
       "      <td>197000000002</td>\n",
       "      <td>1970</td>\n",
       "      <td>0</td>\n",
       "      <td>0</td>\n",
       "      <td>NaN</td>\n",
       "      <td>0</td>\n",
       "      <td>NaN</td>\n",
       "      <td>...</td>\n",
       "      <td>NaN</td>\n",
       "      <td>PGIS</td>\n",
       "      <td>0</td>\n",
       "      <td>1</td>\n",
       "      <td>1</td>\n",
       "      <td>1</td>\n",
       "      <td>NaN</td>\n",
       "    </tr>\n",
       "    <tr>\n",
       "      <th>2</th>\n",
       "      <td>197001000001</td>\n",
       "      <td>1970</td>\n",
       "      <td>1</td>\n",
       "      <td>0</td>\n",
       "      <td>NaN</td>\n",
       "      <td>0</td>\n",
       "      <td>NaN</td>\n",
       "      <td>...</td>\n",
       "      <td>NaN</td>\n",
       "      <td>PGIS</td>\n",
       "      <td>-9</td>\n",
       "      <td>-9</td>\n",
       "      <td>1</td>\n",
       "      <td>1</td>\n",
       "      <td>NaN</td>\n",
       "    </tr>\n",
       "    <tr>\n",
       "      <th>3</th>\n",
       "      <td>197001000002</td>\n",
       "      <td>1970</td>\n",
       "      <td>1</td>\n",
       "      <td>0</td>\n",
       "      <td>NaN</td>\n",
       "      <td>0</td>\n",
       "      <td>NaN</td>\n",
       "      <td>...</td>\n",
       "      <td>NaN</td>\n",
       "      <td>PGIS</td>\n",
       "      <td>-9</td>\n",
       "      <td>-9</td>\n",
       "      <td>1</td>\n",
       "      <td>1</td>\n",
       "      <td>NaN</td>\n",
       "    </tr>\n",
       "    <tr>\n",
       "      <th>4</th>\n",
       "      <td>197001000003</td>\n",
       "      <td>1970</td>\n",
       "      <td>1</td>\n",
       "      <td>0</td>\n",
       "      <td>NaN</td>\n",
       "      <td>0</td>\n",
       "      <td>NaN</td>\n",
       "      <td>...</td>\n",
       "      <td>NaN</td>\n",
       "      <td>PGIS</td>\n",
       "      <td>-9</td>\n",
       "      <td>-9</td>\n",
       "      <td>1</td>\n",
       "      <td>1</td>\n",
       "      <td>NaN</td>\n",
       "    </tr>\n",
       "  </tbody>\n",
       "</table>\n",
       "<p>5 rows × 135 columns</p>\n",
       "</div>"
      ],
      "text/plain": [
       "        eventid  iyear  imonth  iday approxdate  extended resolution  ...  scite3 dbsource  INT_LOG INT_IDEO INT_MISC INT_ANY  related\n",
       "0  197000000001   1970       7     2        NaN         0        NaN  ...     NaN     PGIS        0        0        0       0      NaN\n",
       "1  197000000002   1970       0     0        NaN         0        NaN  ...     NaN     PGIS        0        1        1       1      NaN\n",
       "2  197001000001   1970       1     0        NaN         0        NaN  ...     NaN     PGIS       -9       -9        1       1      NaN\n",
       "3  197001000002   1970       1     0        NaN         0        NaN  ...     NaN     PGIS       -9       -9        1       1      NaN\n",
       "4  197001000003   1970       1     0        NaN         0        NaN  ...     NaN     PGIS       -9       -9        1       1      NaN\n",
       "\n",
       "[5 rows x 135 columns]"
      ]
     },
     "execution_count": 7,
     "metadata": {},
     "output_type": "execute_result"
    }
   ],
   "source": [
    "df = pd.read_csv(\"task/globalterrorismdb_0718dist.csv\", encoding='ISO-8859-1', low_memory=False)\n",
    "df.head()"
   ]
  },
  {
   "cell_type": "markdown",
   "id": "a9a55044",
   "metadata": {},
   "source": [
    "### Переименование колонок год, месяц, день"
   ]
  },
  {
   "cell_type": "code",
   "execution_count": 8,
   "id": "f68f9772",
   "metadata": {},
   "outputs": [],
   "source": [
    "df.rename(columns={'iyear': 'year', 'imonth': 'month', 'iday': 'day'}, inplace=True)"
   ]
  },
  {
   "cell_type": "markdown",
   "id": "21f8263a",
   "metadata": {},
   "source": [
    "# 2 Задание"
   ]
  },
  {
   "cell_type": "markdown",
   "id": "7c2cbea0",
   "metadata": {},
   "source": [
    "### Выбираем нужные колонки year, month, day, country_txt, region_txt, latitude, longitude"
   ]
  },
  {
   "cell_type": "code",
   "execution_count": 9,
   "id": "8186121e",
   "metadata": {
    "scrolled": true
   },
   "outputs": [
    {
     "data": {
      "text/html": [
       "<div>\n",
       "<style scoped>\n",
       "    .dataframe tbody tr th:only-of-type {\n",
       "        vertical-align: middle;\n",
       "    }\n",
       "\n",
       "    .dataframe tbody tr th {\n",
       "        vertical-align: top;\n",
       "    }\n",
       "\n",
       "    .dataframe thead th {\n",
       "        text-align: right;\n",
       "    }\n",
       "</style>\n",
       "<table border=\"1\" class=\"dataframe\">\n",
       "  <thead>\n",
       "    <tr style=\"text-align: right;\">\n",
       "      <th></th>\n",
       "      <th>year</th>\n",
       "      <th>month</th>\n",
       "      <th>day</th>\n",
       "      <th>country_txt</th>\n",
       "      <th>region_txt</th>\n",
       "      <th>latitude</th>\n",
       "      <th>longitude</th>\n",
       "    </tr>\n",
       "  </thead>\n",
       "  <tbody>\n",
       "    <tr>\n",
       "      <th>0</th>\n",
       "      <td>1970</td>\n",
       "      <td>7</td>\n",
       "      <td>2</td>\n",
       "      <td>Dominican Republic</td>\n",
       "      <td>Central America &amp; Caribbean</td>\n",
       "      <td>18.456792</td>\n",
       "      <td>-69.951164</td>\n",
       "    </tr>\n",
       "    <tr>\n",
       "      <th>1</th>\n",
       "      <td>1970</td>\n",
       "      <td>0</td>\n",
       "      <td>0</td>\n",
       "      <td>Mexico</td>\n",
       "      <td>North America</td>\n",
       "      <td>19.371887</td>\n",
       "      <td>-99.086624</td>\n",
       "    </tr>\n",
       "    <tr>\n",
       "      <th>2</th>\n",
       "      <td>1970</td>\n",
       "      <td>1</td>\n",
       "      <td>0</td>\n",
       "      <td>Philippines</td>\n",
       "      <td>Southeast Asia</td>\n",
       "      <td>15.478598</td>\n",
       "      <td>120.599741</td>\n",
       "    </tr>\n",
       "    <tr>\n",
       "      <th>3</th>\n",
       "      <td>1970</td>\n",
       "      <td>1</td>\n",
       "      <td>0</td>\n",
       "      <td>Greece</td>\n",
       "      <td>Western Europe</td>\n",
       "      <td>37.997490</td>\n",
       "      <td>23.762728</td>\n",
       "    </tr>\n",
       "    <tr>\n",
       "      <th>4</th>\n",
       "      <td>1970</td>\n",
       "      <td>1</td>\n",
       "      <td>0</td>\n",
       "      <td>Japan</td>\n",
       "      <td>East Asia</td>\n",
       "      <td>33.580412</td>\n",
       "      <td>130.396361</td>\n",
       "    </tr>\n",
       "  </tbody>\n",
       "</table>\n",
       "</div>"
      ],
      "text/plain": [
       "   year  month  day         country_txt                   region_txt   latitude   longitude\n",
       "0  1970      7    2  Dominican Republic  Central America & Caribbean  18.456792  -69.951164\n",
       "1  1970      0    0              Mexico                North America  19.371887  -99.086624\n",
       "2  1970      1    0         Philippines               Southeast Asia  15.478598  120.599741\n",
       "3  1970      1    0              Greece               Western Europe  37.997490   23.762728\n",
       "4  1970      1    0               Japan                    East Asia  33.580412  130.396361"
      ]
     },
     "execution_count": 9,
     "metadata": {},
     "output_type": "execute_result"
    }
   ],
   "source": [
    "df1 = df.loc[:, [\"year\", \"month\", \"day\", \"country_txt\", \"region_txt\", \"latitude\", \"longitude\"]]\n",
    "df1.head()"
   ]
  },
  {
   "cell_type": "markdown",
   "id": "6a699ab2",
   "metadata": {},
   "source": [
    "### Удаляем строки без значений месяца и дня"
   ]
  },
  {
   "cell_type": "code",
   "execution_count": 12,
   "id": "fc8c523a",
   "metadata": {},
   "outputs": [],
   "source": [
    "df1 = df1.loc[(df1[\"month\"] != 0) & (df1['day'] != 0)]"
   ]
  },
  {
   "cell_type": "markdown",
   "id": "dba2d194",
   "metadata": {},
   "source": [
    "### Преобразуем день, месяц, год в один столбец"
   ]
  },
  {
   "cell_type": "code",
   "execution_count": 13,
   "id": "191a972d",
   "metadata": {
    "scrolled": true
   },
   "outputs": [
    {
     "data": {
      "text/html": [
       "<div>\n",
       "<style scoped>\n",
       "    .dataframe tbody tr th:only-of-type {\n",
       "        vertical-align: middle;\n",
       "    }\n",
       "\n",
       "    .dataframe tbody tr th {\n",
       "        vertical-align: top;\n",
       "    }\n",
       "\n",
       "    .dataframe thead th {\n",
       "        text-align: right;\n",
       "    }\n",
       "</style>\n",
       "<table border=\"1\" class=\"dataframe\">\n",
       "  <thead>\n",
       "    <tr style=\"text-align: right;\">\n",
       "      <th></th>\n",
       "      <th>year</th>\n",
       "      <th>month</th>\n",
       "      <th>day</th>\n",
       "      <th>country_txt</th>\n",
       "      <th>region_txt</th>\n",
       "      <th>latitude</th>\n",
       "      <th>longitude</th>\n",
       "      <th>accident_date</th>\n",
       "    </tr>\n",
       "  </thead>\n",
       "  <tbody>\n",
       "    <tr>\n",
       "      <th>0</th>\n",
       "      <td>1970</td>\n",
       "      <td>7</td>\n",
       "      <td>2</td>\n",
       "      <td>Dominican Republic</td>\n",
       "      <td>Central America &amp; Caribbean</td>\n",
       "      <td>18.456792</td>\n",
       "      <td>-69.951164</td>\n",
       "      <td>1970-07-02</td>\n",
       "    </tr>\n",
       "    <tr>\n",
       "      <th>5</th>\n",
       "      <td>1970</td>\n",
       "      <td>1</td>\n",
       "      <td>1</td>\n",
       "      <td>United States</td>\n",
       "      <td>North America</td>\n",
       "      <td>37.005105</td>\n",
       "      <td>-89.176269</td>\n",
       "      <td>1970-01-01</td>\n",
       "    </tr>\n",
       "    <tr>\n",
       "      <th>6</th>\n",
       "      <td>1970</td>\n",
       "      <td>1</td>\n",
       "      <td>2</td>\n",
       "      <td>Uruguay</td>\n",
       "      <td>South America</td>\n",
       "      <td>-34.891151</td>\n",
       "      <td>-56.187214</td>\n",
       "      <td>1970-01-02</td>\n",
       "    </tr>\n",
       "    <tr>\n",
       "      <th>7</th>\n",
       "      <td>1970</td>\n",
       "      <td>1</td>\n",
       "      <td>2</td>\n",
       "      <td>United States</td>\n",
       "      <td>North America</td>\n",
       "      <td>37.791927</td>\n",
       "      <td>-122.225906</td>\n",
       "      <td>1970-01-02</td>\n",
       "    </tr>\n",
       "    <tr>\n",
       "      <th>8</th>\n",
       "      <td>1970</td>\n",
       "      <td>1</td>\n",
       "      <td>2</td>\n",
       "      <td>United States</td>\n",
       "      <td>North America</td>\n",
       "      <td>43.076592</td>\n",
       "      <td>-89.412488</td>\n",
       "      <td>1970-01-02</td>\n",
       "    </tr>\n",
       "  </tbody>\n",
       "</table>\n",
       "</div>"
      ],
      "text/plain": [
       "   year  month  day         country_txt                   region_txt   latitude   longitude accident_date\n",
       "0  1970      7    2  Dominican Republic  Central America & Caribbean  18.456792  -69.951164    1970-07-02\n",
       "5  1970      1    1       United States                North America  37.005105  -89.176269    1970-01-01\n",
       "6  1970      1    2             Uruguay                South America -34.891151  -56.187214    1970-01-02\n",
       "7  1970      1    2       United States                North America  37.791927 -122.225906    1970-01-02\n",
       "8  1970      1    2       United States                North America  43.076592  -89.412488    1970-01-02"
      ]
     },
     "execution_count": 13,
     "metadata": {},
     "output_type": "execute_result"
    }
   ],
   "source": [
    "df1['accident_date'] = pd.to_datetime(df1.loc[:, [\"year\", \"month\", \"day\"]].astype(str))\n",
    "df1.head()"
   ]
  },
  {
   "cell_type": "markdown",
   "id": "d9dd264c",
   "metadata": {},
   "source": [
    "# 3 задание"
   ]
  },
  {
   "cell_type": "markdown",
   "id": "0c1d75b8",
   "metadata": {},
   "source": [
    "### Выбираем порядок колонок"
   ]
  },
  {
   "cell_type": "code",
   "execution_count": 14,
   "id": "13b70069",
   "metadata": {},
   "outputs": [],
   "source": [
    "columns = list(df1.columns)\n",
    "new_column_order = columns[3:5] + columns[:3] + columns[-3:-1] + columns[-1:]"
   ]
  },
  {
   "cell_type": "markdown",
   "id": "6a1ecadf",
   "metadata": {},
   "source": [
    "### Переставляем порядок столбцов и сортируем в этом порядке"
   ]
  },
  {
   "cell_type": "code",
   "execution_count": 15,
   "id": "a580fac5",
   "metadata": {
    "scrolled": true
   },
   "outputs": [
    {
     "data": {
      "text/html": [
       "<div>\n",
       "<style scoped>\n",
       "    .dataframe tbody tr th:only-of-type {\n",
       "        vertical-align: middle;\n",
       "    }\n",
       "\n",
       "    .dataframe tbody tr th {\n",
       "        vertical-align: top;\n",
       "    }\n",
       "\n",
       "    .dataframe thead th {\n",
       "        text-align: right;\n",
       "    }\n",
       "</style>\n",
       "<table border=\"1\" class=\"dataframe\">\n",
       "  <thead>\n",
       "    <tr style=\"text-align: right;\">\n",
       "      <th></th>\n",
       "      <th>country_txt</th>\n",
       "      <th>region_txt</th>\n",
       "      <th>year</th>\n",
       "      <th>month</th>\n",
       "      <th>day</th>\n",
       "      <th>latitude</th>\n",
       "      <th>longitude</th>\n",
       "      <th>accident_date</th>\n",
       "    </tr>\n",
       "  </thead>\n",
       "  <tbody>\n",
       "    <tr>\n",
       "      <th>1863</th>\n",
       "      <td>Afghanistan</td>\n",
       "      <td>South Asia</td>\n",
       "      <td>1973</td>\n",
       "      <td>5</td>\n",
       "      <td>1</td>\n",
       "      <td>34.516895</td>\n",
       "      <td>69.147011</td>\n",
       "      <td>1973-05-01</td>\n",
       "    </tr>\n",
       "    <tr>\n",
       "      <th>7627</th>\n",
       "      <td>Afghanistan</td>\n",
       "      <td>South Asia</td>\n",
       "      <td>1979</td>\n",
       "      <td>2</td>\n",
       "      <td>14</td>\n",
       "      <td>34.516895</td>\n",
       "      <td>69.147011</td>\n",
       "      <td>1979-02-14</td>\n",
       "    </tr>\n",
       "    <tr>\n",
       "      <th>9156</th>\n",
       "      <td>Afghanistan</td>\n",
       "      <td>South Asia</td>\n",
       "      <td>1979</td>\n",
       "      <td>8</td>\n",
       "      <td>27</td>\n",
       "      <td>33.542622</td>\n",
       "      <td>68.415329</td>\n",
       "      <td>1979-08-27</td>\n",
       "    </tr>\n",
       "    <tr>\n",
       "      <th>9218</th>\n",
       "      <td>Afghanistan</td>\n",
       "      <td>South Asia</td>\n",
       "      <td>1979</td>\n",
       "      <td>9</td>\n",
       "      <td>9</td>\n",
       "      <td>34.346722</td>\n",
       "      <td>62.197315</td>\n",
       "      <td>1979-09-09</td>\n",
       "    </tr>\n",
       "    <tr>\n",
       "      <th>31132</th>\n",
       "      <td>Afghanistan</td>\n",
       "      <td>South Asia</td>\n",
       "      <td>1987</td>\n",
       "      <td>5</td>\n",
       "      <td>31</td>\n",
       "      <td>NaN</td>\n",
       "      <td>NaN</td>\n",
       "      <td>1987-05-31</td>\n",
       "    </tr>\n",
       "  </tbody>\n",
       "</table>\n",
       "</div>"
      ],
      "text/plain": [
       "       country_txt  region_txt  year  month  day   latitude  longitude accident_date\n",
       "1863   Afghanistan  South Asia  1973      5    1  34.516895  69.147011    1973-05-01\n",
       "7627   Afghanistan  South Asia  1979      2   14  34.516895  69.147011    1979-02-14\n",
       "9156   Afghanistan  South Asia  1979      8   27  33.542622  68.415329    1979-08-27\n",
       "9218   Afghanistan  South Asia  1979      9    9  34.346722  62.197315    1979-09-09\n",
       "31132  Afghanistan  South Asia  1987      5   31        NaN        NaN    1987-05-31"
      ]
     },
     "execution_count": 15,
     "metadata": {},
     "output_type": "execute_result"
    }
   ],
   "source": [
    "df2 = df1.reindex(columns=new_column_order)\n",
    "df2.sort_values(by=new_column_order[:-1], inplace=True)\n",
    "df2.head()"
   ]
  },
  {
   "cell_type": "markdown",
   "id": "2b2914f9",
   "metadata": {},
   "source": [
    "# 4 задание"
   ]
  },
  {
   "cell_type": "markdown",
   "id": "6584178b",
   "metadata": {},
   "source": [
    "### Количество строк по стране"
   ]
  },
  {
   "cell_type": "code",
   "execution_count": 16,
   "id": "3f77685d",
   "metadata": {},
   "outputs": [],
   "source": [
    "month_count = df2['country_txt'].value_counts()"
   ]
  },
  {
   "cell_type": "markdown",
   "id": "172c3368",
   "metadata": {},
   "source": [
    "### Преобразуем данные в DataFrame"
   ]
  },
  {
   "cell_type": "code",
   "execution_count": 17,
   "id": "f2122127",
   "metadata": {},
   "outputs": [
    {
     "data": {
      "text/html": [
       "<div>\n",
       "<style scoped>\n",
       "    .dataframe tbody tr th:only-of-type {\n",
       "        vertical-align: middle;\n",
       "    }\n",
       "\n",
       "    .dataframe tbody tr th {\n",
       "        vertical-align: top;\n",
       "    }\n",
       "\n",
       "    .dataframe thead th {\n",
       "        text-align: right;\n",
       "    }\n",
       "</style>\n",
       "<table border=\"1\" class=\"dataframe\">\n",
       "  <thead>\n",
       "    <tr style=\"text-align: right;\">\n",
       "      <th></th>\n",
       "      <th>country_txt</th>\n",
       "      <th>count</th>\n",
       "    </tr>\n",
       "  </thead>\n",
       "  <tbody>\n",
       "    <tr>\n",
       "      <th>0</th>\n",
       "      <td>Iraq</td>\n",
       "      <td>24616</td>\n",
       "    </tr>\n",
       "    <tr>\n",
       "      <th>1</th>\n",
       "      <td>Pakistan</td>\n",
       "      <td>14331</td>\n",
       "    </tr>\n",
       "    <tr>\n",
       "      <th>2</th>\n",
       "      <td>Afghanistan</td>\n",
       "      <td>12718</td>\n",
       "    </tr>\n",
       "    <tr>\n",
       "      <th>3</th>\n",
       "      <td>India</td>\n",
       "      <td>11931</td>\n",
       "    </tr>\n",
       "    <tr>\n",
       "      <th>4</th>\n",
       "      <td>Colombia</td>\n",
       "      <td>8232</td>\n",
       "    </tr>\n",
       "    <tr>\n",
       "      <th>...</th>\n",
       "      <td>...</td>\n",
       "      <td>...</td>\n",
       "    </tr>\n",
       "    <tr>\n",
       "      <th>200</th>\n",
       "      <td>South Vietnam</td>\n",
       "      <td>1</td>\n",
       "    </tr>\n",
       "    <tr>\n",
       "      <th>201</th>\n",
       "      <td>Wallis and Futuna</td>\n",
       "      <td>1</td>\n",
       "    </tr>\n",
       "    <tr>\n",
       "      <th>202</th>\n",
       "      <td>Falkland Islands</td>\n",
       "      <td>1</td>\n",
       "    </tr>\n",
       "    <tr>\n",
       "      <th>203</th>\n",
       "      <td>Andorra</td>\n",
       "      <td>1</td>\n",
       "    </tr>\n",
       "    <tr>\n",
       "      <th>204</th>\n",
       "      <td>Vatican City</td>\n",
       "      <td>1</td>\n",
       "    </tr>\n",
       "  </tbody>\n",
       "</table>\n",
       "<p>205 rows × 2 columns</p>\n",
       "</div>"
      ],
      "text/plain": [
       "           country_txt  count\n",
       "0                 Iraq  24616\n",
       "1             Pakistan  14331\n",
       "2          Afghanistan  12718\n",
       "3                India  11931\n",
       "4             Colombia   8232\n",
       "..                 ...    ...\n",
       "200      South Vietnam      1\n",
       "201  Wallis and Futuna      1\n",
       "202   Falkland Islands      1\n",
       "203            Andorra      1\n",
       "204       Vatican City      1\n",
       "\n",
       "[205 rows x 2 columns]"
      ]
     },
     "execution_count": 17,
     "metadata": {},
     "output_type": "execute_result"
    }
   ],
   "source": [
    "df_countries_count = pd.DataFrame({'country_txt': month_count.index, 'count': month_count.values})\n",
    "df_countries_count"
   ]
  },
  {
   "cell_type": "markdown",
   "id": "9ca686c2",
   "metadata": {},
   "source": [
    "### Соединяем в 1 DataFrame"
   ]
  },
  {
   "cell_type": "code",
   "execution_count": 18,
   "id": "07e3ab30",
   "metadata": {},
   "outputs": [
    {
     "data": {
      "text/html": [
       "<div>\n",
       "<style scoped>\n",
       "    .dataframe tbody tr th:only-of-type {\n",
       "        vertical-align: middle;\n",
       "    }\n",
       "\n",
       "    .dataframe tbody tr th {\n",
       "        vertical-align: top;\n",
       "    }\n",
       "\n",
       "    .dataframe thead th {\n",
       "        text-align: right;\n",
       "    }\n",
       "</style>\n",
       "<table border=\"1\" class=\"dataframe\">\n",
       "  <thead>\n",
       "    <tr style=\"text-align: right;\">\n",
       "      <th></th>\n",
       "      <th>country_txt</th>\n",
       "      <th>region_txt</th>\n",
       "      <th>year</th>\n",
       "      <th>month</th>\n",
       "      <th>day</th>\n",
       "      <th>latitude</th>\n",
       "      <th>longitude</th>\n",
       "      <th>accident_date</th>\n",
       "      <th>count</th>\n",
       "    </tr>\n",
       "  </thead>\n",
       "  <tbody>\n",
       "    <tr>\n",
       "      <th>0</th>\n",
       "      <td>Iraq</td>\n",
       "      <td>Middle East &amp; North Africa</td>\n",
       "      <td>1975</td>\n",
       "      <td>3</td>\n",
       "      <td>1</td>\n",
       "      <td>36.354145</td>\n",
       "      <td>43.143570</td>\n",
       "      <td>1975-03-01</td>\n",
       "      <td>24616</td>\n",
       "    </tr>\n",
       "    <tr>\n",
       "      <th>1</th>\n",
       "      <td>Iraq</td>\n",
       "      <td>Middle East &amp; North Africa</td>\n",
       "      <td>1976</td>\n",
       "      <td>12</td>\n",
       "      <td>15</td>\n",
       "      <td>33.303566</td>\n",
       "      <td>44.371773</td>\n",
       "      <td>1976-12-15</td>\n",
       "      <td>24616</td>\n",
       "    </tr>\n",
       "    <tr>\n",
       "      <th>2</th>\n",
       "      <td>Iraq</td>\n",
       "      <td>Middle East &amp; North Africa</td>\n",
       "      <td>1976</td>\n",
       "      <td>12</td>\n",
       "      <td>18</td>\n",
       "      <td>NaN</td>\n",
       "      <td>NaN</td>\n",
       "      <td>1976-12-18</td>\n",
       "      <td>24616</td>\n",
       "    </tr>\n",
       "    <tr>\n",
       "      <th>3</th>\n",
       "      <td>Iraq</td>\n",
       "      <td>Middle East &amp; North Africa</td>\n",
       "      <td>1976</td>\n",
       "      <td>12</td>\n",
       "      <td>24</td>\n",
       "      <td>33.303566</td>\n",
       "      <td>44.371773</td>\n",
       "      <td>1976-12-24</td>\n",
       "      <td>24616</td>\n",
       "    </tr>\n",
       "    <tr>\n",
       "      <th>4</th>\n",
       "      <td>Iraq</td>\n",
       "      <td>Middle East &amp; North Africa</td>\n",
       "      <td>1979</td>\n",
       "      <td>6</td>\n",
       "      <td>15</td>\n",
       "      <td>30.510054</td>\n",
       "      <td>47.778095</td>\n",
       "      <td>1979-06-15</td>\n",
       "      <td>24616</td>\n",
       "    </tr>\n",
       "    <tr>\n",
       "      <th>...</th>\n",
       "      <td>...</td>\n",
       "      <td>...</td>\n",
       "      <td>...</td>\n",
       "      <td>...</td>\n",
       "      <td>...</td>\n",
       "      <td>...</td>\n",
       "      <td>...</td>\n",
       "      <td>...</td>\n",
       "      <td>...</td>\n",
       "    </tr>\n",
       "    <tr>\n",
       "      <th>180795</th>\n",
       "      <td>South Vietnam</td>\n",
       "      <td>Southeast Asia</td>\n",
       "      <td>1972</td>\n",
       "      <td>6</td>\n",
       "      <td>15</td>\n",
       "      <td>13.977956</td>\n",
       "      <td>108.002298</td>\n",
       "      <td>1972-06-15</td>\n",
       "      <td>1</td>\n",
       "    </tr>\n",
       "    <tr>\n",
       "      <th>180796</th>\n",
       "      <td>Wallis and Futuna</td>\n",
       "      <td>Australasia &amp; Oceania</td>\n",
       "      <td>1994</td>\n",
       "      <td>6</td>\n",
       "      <td>14</td>\n",
       "      <td>-13.282509</td>\n",
       "      <td>-176.176447</td>\n",
       "      <td>1994-06-14</td>\n",
       "      <td>1</td>\n",
       "    </tr>\n",
       "    <tr>\n",
       "      <th>180797</th>\n",
       "      <td>Falkland Islands</td>\n",
       "      <td>South America</td>\n",
       "      <td>1983</td>\n",
       "      <td>8</td>\n",
       "      <td>5</td>\n",
       "      <td>-51.692214</td>\n",
       "      <td>-57.858900</td>\n",
       "      <td>1983-08-05</td>\n",
       "      <td>1</td>\n",
       "    </tr>\n",
       "    <tr>\n",
       "      <th>180798</th>\n",
       "      <td>Andorra</td>\n",
       "      <td>Western Europe</td>\n",
       "      <td>1974</td>\n",
       "      <td>7</td>\n",
       "      <td>14</td>\n",
       "      <td>NaN</td>\n",
       "      <td>NaN</td>\n",
       "      <td>1974-07-14</td>\n",
       "      <td>1</td>\n",
       "    </tr>\n",
       "    <tr>\n",
       "      <th>180799</th>\n",
       "      <td>Vatican City</td>\n",
       "      <td>Western Europe</td>\n",
       "      <td>1981</td>\n",
       "      <td>5</td>\n",
       "      <td>13</td>\n",
       "      <td>41.902887</td>\n",
       "      <td>12.453553</td>\n",
       "      <td>1981-05-13</td>\n",
       "      <td>1</td>\n",
       "    </tr>\n",
       "  </tbody>\n",
       "</table>\n",
       "<p>180800 rows × 9 columns</p>\n",
       "</div>"
      ],
      "text/plain": [
       "              country_txt                  region_txt  year  month  day   latitude   longitude accident_date  count\n",
       "0                    Iraq  Middle East & North Africa  1975      3    1  36.354145   43.143570    1975-03-01  24616\n",
       "1                    Iraq  Middle East & North Africa  1976     12   15  33.303566   44.371773    1976-12-15  24616\n",
       "2                    Iraq  Middle East & North Africa  1976     12   18        NaN         NaN    1976-12-18  24616\n",
       "3                    Iraq  Middle East & North Africa  1976     12   24  33.303566   44.371773    1976-12-24  24616\n",
       "4                    Iraq  Middle East & North Africa  1979      6   15  30.510054   47.778095    1979-06-15  24616\n",
       "...                   ...                         ...   ...    ...  ...        ...         ...           ...    ...\n",
       "180795      South Vietnam              Southeast Asia  1972      6   15  13.977956  108.002298    1972-06-15      1\n",
       "180796  Wallis and Futuna       Australasia & Oceania  1994      6   14 -13.282509 -176.176447    1994-06-14      1\n",
       "180797   Falkland Islands               South America  1983      8    5 -51.692214  -57.858900    1983-08-05      1\n",
       "180798            Andorra              Western Europe  1974      7   14        NaN         NaN    1974-07-14      1\n",
       "180799       Vatican City              Western Europe  1981      5   13  41.902887   12.453553    1981-05-13      1\n",
       "\n",
       "[180800 rows x 9 columns]"
      ]
     },
     "execution_count": 18,
     "metadata": {},
     "output_type": "execute_result"
    }
   ],
   "source": [
    "df3 = df2.merge(df_countries_count, how='right', on=['country_txt'])\n",
    "df3"
   ]
  },
  {
   "cell_type": "markdown",
   "id": "3535a21c",
   "metadata": {},
   "source": [
    "# 5 задание"
   ]
  },
  {
   "cell_type": "markdown",
   "id": "bb3a3bb1",
   "metadata": {},
   "source": [
    "### Описательная статистика"
   ]
  },
  {
   "cell_type": "code",
   "execution_count": 19,
   "id": "5b287329",
   "metadata": {
    "scrolled": true
   },
   "outputs": [
    {
     "data": {
      "text/html": [
       "<div>\n",
       "<style scoped>\n",
       "    .dataframe tbody tr th:only-of-type {\n",
       "        vertical-align: middle;\n",
       "    }\n",
       "\n",
       "    .dataframe tbody tr th {\n",
       "        vertical-align: top;\n",
       "    }\n",
       "\n",
       "    .dataframe thead th {\n",
       "        text-align: right;\n",
       "    }\n",
       "</style>\n",
       "<table border=\"1\" class=\"dataframe\">\n",
       "  <thead>\n",
       "    <tr style=\"text-align: right;\">\n",
       "      <th></th>\n",
       "      <th>parameters</th>\n",
       "      <th>year</th>\n",
       "      <th>month</th>\n",
       "      <th>day</th>\n",
       "      <th>latitude</th>\n",
       "      <th>longitude</th>\n",
       "      <th>count</th>\n",
       "    </tr>\n",
       "  </thead>\n",
       "  <tbody>\n",
       "    <tr>\n",
       "      <th>0</th>\n",
       "      <td>count</td>\n",
       "      <td>180800.000000</td>\n",
       "      <td>180800.000000</td>\n",
       "      <td>180800.000000</td>\n",
       "      <td>176331.000000</td>\n",
       "      <td>1.763300e+05</td>\n",
       "      <td>180800.000000</td>\n",
       "    </tr>\n",
       "    <tr>\n",
       "      <th>1</th>\n",
       "      <td>mean</td>\n",
       "      <td>2002.706499</td>\n",
       "      <td>6.467478</td>\n",
       "      <td>15.582058</td>\n",
       "      <td>23.503621</td>\n",
       "      <td>-4.608099e+02</td>\n",
       "      <td>8369.167168</td>\n",
       "    </tr>\n",
       "    <tr>\n",
       "      <th>2</th>\n",
       "      <td>std</td>\n",
       "      <td>13.229239</td>\n",
       "      <td>3.386879</td>\n",
       "      <td>8.768099</td>\n",
       "      <td>18.556458</td>\n",
       "      <td>2.052453e+05</td>\n",
       "      <td>7767.438908</td>\n",
       "    </tr>\n",
       "    <tr>\n",
       "      <th>3</th>\n",
       "      <td>min</td>\n",
       "      <td>1970.000000</td>\n",
       "      <td>1.000000</td>\n",
       "      <td>1.000000</td>\n",
       "      <td>-53.154613</td>\n",
       "      <td>-8.618590e+07</td>\n",
       "      <td>1.000000</td>\n",
       "    </tr>\n",
       "    <tr>\n",
       "      <th>4</th>\n",
       "      <td>25%</td>\n",
       "      <td>1991.000000</td>\n",
       "      <td>4.000000</td>\n",
       "      <td>8.000000</td>\n",
       "      <td>11.544140</td>\n",
       "      <td>4.895168e+00</td>\n",
       "      <td>2356.000000</td>\n",
       "    </tr>\n",
       "    <tr>\n",
       "      <th>5</th>\n",
       "      <td>50%</td>\n",
       "      <td>2009.000000</td>\n",
       "      <td>6.000000</td>\n",
       "      <td>15.000000</td>\n",
       "      <td>31.467463</td>\n",
       "      <td>4.329418e+01</td>\n",
       "      <td>5208.000000</td>\n",
       "    </tr>\n",
       "    <tr>\n",
       "      <th>6</th>\n",
       "      <td>75%</td>\n",
       "      <td>2014.000000</td>\n",
       "      <td>9.000000</td>\n",
       "      <td>23.000000</td>\n",
       "      <td>34.667758</td>\n",
       "      <td>6.871550e+01</td>\n",
       "      <td>12718.000000</td>\n",
       "    </tr>\n",
       "    <tr>\n",
       "      <th>7</th>\n",
       "      <td>max</td>\n",
       "      <td>2017.000000</td>\n",
       "      <td>12.000000</td>\n",
       "      <td>31.000000</td>\n",
       "      <td>74.633553</td>\n",
       "      <td>1.793667e+02</td>\n",
       "      <td>24616.000000</td>\n",
       "    </tr>\n",
       "  </tbody>\n",
       "</table>\n",
       "</div>"
      ],
      "text/plain": [
       "  parameters           year          month            day       latitude     longitude          count\n",
       "0      count  180800.000000  180800.000000  180800.000000  176331.000000  1.763300e+05  180800.000000\n",
       "1       mean    2002.706499       6.467478      15.582058      23.503621 -4.608099e+02    8369.167168\n",
       "2        std      13.229239       3.386879       8.768099      18.556458  2.052453e+05    7767.438908\n",
       "3        min    1970.000000       1.000000       1.000000     -53.154613 -8.618590e+07       1.000000\n",
       "4        25%    1991.000000       4.000000       8.000000      11.544140  4.895168e+00    2356.000000\n",
       "5        50%    2009.000000       6.000000      15.000000      31.467463  4.329418e+01    5208.000000\n",
       "6        75%    2014.000000       9.000000      23.000000      34.667758  6.871550e+01   12718.000000\n",
       "7        max    2017.000000      12.000000      31.000000      74.633553  1.793667e+02   24616.000000"
      ]
     },
     "execution_count": 19,
     "metadata": {},
     "output_type": "execute_result"
    }
   ],
   "source": [
    "stat_analysis = df3.describe().reset_index()\n",
    "stat_analysis.rename(columns={'index': 'parameters'}, inplace=True)\n",
    "stat_analysis"
   ]
  },
  {
   "cell_type": "markdown",
   "id": "7948046a",
   "metadata": {},
   "source": [
    "### Средние значения "
   ]
  },
  {
   "cell_type": "code",
   "execution_count": 20,
   "id": "33614fdc",
   "metadata": {},
   "outputs": [
    {
     "data": {
      "text/plain": [
       "year         2002.706499\n",
       "month           6.467478\n",
       "day            15.582058\n",
       "latitude       23.503621\n",
       "longitude    -460.809929\n",
       "count        8369.167168\n",
       "dtype: float64"
      ]
     },
     "execution_count": 20,
     "metadata": {},
     "output_type": "execute_result"
    }
   ],
   "source": [
    "df3.mean(numeric_only=True)"
   ]
  },
  {
   "cell_type": "markdown",
   "id": "93c61fd3",
   "metadata": {},
   "source": [
    "### Квантили"
   ]
  },
  {
   "cell_type": "code",
   "execution_count": 21,
   "id": "067751a5",
   "metadata": {
    "scrolled": true
   },
   "outputs": [
    {
     "data": {
      "text/html": [
       "<div>\n",
       "<style scoped>\n",
       "    .dataframe tbody tr th:only-of-type {\n",
       "        vertical-align: middle;\n",
       "    }\n",
       "\n",
       "    .dataframe tbody tr th {\n",
       "        vertical-align: top;\n",
       "    }\n",
       "\n",
       "    .dataframe thead th {\n",
       "        text-align: right;\n",
       "    }\n",
       "</style>\n",
       "<table border=\"1\" class=\"dataframe\">\n",
       "  <thead>\n",
       "    <tr style=\"text-align: right;\">\n",
       "      <th></th>\n",
       "      <th>year</th>\n",
       "      <th>month</th>\n",
       "      <th>day</th>\n",
       "      <th>latitude</th>\n",
       "      <th>longitude</th>\n",
       "      <th>count</th>\n",
       "    </tr>\n",
       "  </thead>\n",
       "  <tbody>\n",
       "    <tr>\n",
       "      <th>0.0</th>\n",
       "      <td>1970.0</td>\n",
       "      <td>1.0</td>\n",
       "      <td>1.0</td>\n",
       "      <td>-53.154613</td>\n",
       "      <td>-8.618590e+07</td>\n",
       "      <td>1.0</td>\n",
       "    </tr>\n",
       "    <tr>\n",
       "      <th>0.1</th>\n",
       "      <td>1983.0</td>\n",
       "      <td>2.0</td>\n",
       "      <td>3.0</td>\n",
       "      <td>2.059819</td>\n",
       "      <td>-7.556477e+01</td>\n",
       "      <td>767.0</td>\n",
       "    </tr>\n",
       "    <tr>\n",
       "      <th>0.2</th>\n",
       "      <td>1988.0</td>\n",
       "      <td>3.0</td>\n",
       "      <td>7.0</td>\n",
       "      <td>7.298610</td>\n",
       "      <td>-5.956210e+00</td>\n",
       "      <td>2190.0</td>\n",
       "    </tr>\n",
       "    <tr>\n",
       "      <th>0.3</th>\n",
       "      <td>1994.0</td>\n",
       "      <td>4.0</td>\n",
       "      <td>10.0</td>\n",
       "      <td>13.723215</td>\n",
       "      <td>1.340185e+01</td>\n",
       "      <td>2620.0</td>\n",
       "    </tr>\n",
       "    <tr>\n",
       "      <th>0.4</th>\n",
       "      <td>2001.0</td>\n",
       "      <td>5.0</td>\n",
       "      <td>13.0</td>\n",
       "      <td>24.860545</td>\n",
       "      <td>3.463100e+01</td>\n",
       "      <td>3840.0</td>\n",
       "    </tr>\n",
       "    <tr>\n",
       "      <th>0.5</th>\n",
       "      <td>2009.0</td>\n",
       "      <td>6.0</td>\n",
       "      <td>15.0</td>\n",
       "      <td>31.467463</td>\n",
       "      <td>4.329418e+01</td>\n",
       "      <td>5208.0</td>\n",
       "    </tr>\n",
       "    <tr>\n",
       "      <th>0.6</th>\n",
       "      <td>2012.0</td>\n",
       "      <td>8.0</td>\n",
       "      <td>19.0</td>\n",
       "      <td>33.303566</td>\n",
       "      <td>4.437547e+01</td>\n",
       "      <td>6874.0</td>\n",
       "    </tr>\n",
       "    <tr>\n",
       "      <th>0.7</th>\n",
       "      <td>2014.0</td>\n",
       "      <td>9.0</td>\n",
       "      <td>22.0</td>\n",
       "      <td>34.006004</td>\n",
       "      <td>6.557079e+01</td>\n",
       "      <td>11931.0</td>\n",
       "    </tr>\n",
       "    <tr>\n",
       "      <th>0.8</th>\n",
       "      <td>2015.0</td>\n",
       "      <td>10.0</td>\n",
       "      <td>25.0</td>\n",
       "      <td>36.166667</td>\n",
       "      <td>7.135591e+01</td>\n",
       "      <td>14331.0</td>\n",
       "    </tr>\n",
       "    <tr>\n",
       "      <th>0.9</th>\n",
       "      <td>2016.0</td>\n",
       "      <td>11.0</td>\n",
       "      <td>28.0</td>\n",
       "      <td>42.111818</td>\n",
       "      <td>8.775965e+01</td>\n",
       "      <td>24616.0</td>\n",
       "    </tr>\n",
       "    <tr>\n",
       "      <th>1.0</th>\n",
       "      <td>2017.0</td>\n",
       "      <td>12.0</td>\n",
       "      <td>31.0</td>\n",
       "      <td>74.633553</td>\n",
       "      <td>1.793667e+02</td>\n",
       "      <td>24616.0</td>\n",
       "    </tr>\n",
       "  </tbody>\n",
       "</table>\n",
       "</div>"
      ],
      "text/plain": [
       "       year  month   day   latitude     longitude    count\n",
       "0.0  1970.0    1.0   1.0 -53.154613 -8.618590e+07      1.0\n",
       "0.1  1983.0    2.0   3.0   2.059819 -7.556477e+01    767.0\n",
       "0.2  1988.0    3.0   7.0   7.298610 -5.956210e+00   2190.0\n",
       "0.3  1994.0    4.0  10.0  13.723215  1.340185e+01   2620.0\n",
       "0.4  2001.0    5.0  13.0  24.860545  3.463100e+01   3840.0\n",
       "0.5  2009.0    6.0  15.0  31.467463  4.329418e+01   5208.0\n",
       "0.6  2012.0    8.0  19.0  33.303566  4.437547e+01   6874.0\n",
       "0.7  2014.0    9.0  22.0  34.006004  6.557079e+01  11931.0\n",
       "0.8  2015.0   10.0  25.0  36.166667  7.135591e+01  14331.0\n",
       "0.9  2016.0   11.0  28.0  42.111818  8.775965e+01  24616.0\n",
       "1.0  2017.0   12.0  31.0  74.633553  1.793667e+02  24616.0"
      ]
     },
     "execution_count": 21,
     "metadata": {},
     "output_type": "execute_result"
    }
   ],
   "source": [
    "quantile = df3.quantile(q=[0, 0.1, 0.2, 0.3, 0.4, 0.5, 0.6, 0.7, 0.8, 0.9, 1])\n",
    "quantile"
   ]
  },
  {
   "cell_type": "markdown",
   "id": "82d329bc",
   "metadata": {},
   "source": [
    "# 6 задание"
   ]
  },
  {
   "cell_type": "markdown",
   "id": "77e2b905",
   "metadata": {},
   "source": [
    "### Первый квантиль"
   ]
  },
  {
   "cell_type": "code",
   "execution_count": 22,
   "id": "25a9f577",
   "metadata": {},
   "outputs": [
    {
     "data": {
      "text/plain": [
       "2356.0"
      ]
     },
     "execution_count": 22,
     "metadata": {},
     "output_type": "execute_result"
    }
   ],
   "source": [
    "first_quantile = stat_analysis.iloc[4, 6]\n",
    "first_quantile"
   ]
  },
  {
   "cell_type": "markdown",
   "id": "da79e2a6",
   "metadata": {},
   "source": [
    "### Третий квантиль"
   ]
  },
  {
   "cell_type": "code",
   "execution_count": 23,
   "id": "44b699e0",
   "metadata": {},
   "outputs": [
    {
     "data": {
      "text/plain": [
       "12718.0"
      ]
     },
     "execution_count": 23,
     "metadata": {},
     "output_type": "execute_result"
    }
   ],
   "source": [
    "third_quantile = stat_analysis.iloc[6, 6]\n",
    "third_quantile"
   ]
  },
  {
   "cell_type": "markdown",
   "id": "54fdac48",
   "metadata": {},
   "source": [
    "### DataFrame между 1 и 3 квантилем"
   ]
  },
  {
   "cell_type": "code",
   "execution_count": 24,
   "id": "919abffc",
   "metadata": {
    "scrolled": true
   },
   "outputs": [
    {
     "data": {
      "text/html": [
       "<div>\n",
       "<style scoped>\n",
       "    .dataframe tbody tr th:only-of-type {\n",
       "        vertical-align: middle;\n",
       "    }\n",
       "\n",
       "    .dataframe tbody tr th {\n",
       "        vertical-align: top;\n",
       "    }\n",
       "\n",
       "    .dataframe thead th {\n",
       "        text-align: right;\n",
       "    }\n",
       "</style>\n",
       "<table border=\"1\" class=\"dataframe\">\n",
       "  <thead>\n",
       "    <tr style=\"text-align: right;\">\n",
       "      <th></th>\n",
       "      <th>country_txt</th>\n",
       "      <th>region_txt</th>\n",
       "      <th>year</th>\n",
       "      <th>month</th>\n",
       "      <th>day</th>\n",
       "      <th>latitude</th>\n",
       "      <th>longitude</th>\n",
       "      <th>accident_date</th>\n",
       "      <th>count</th>\n",
       "    </tr>\n",
       "  </thead>\n",
       "  <tbody>\n",
       "    <tr>\n",
       "      <th>51665</th>\n",
       "      <td>India</td>\n",
       "      <td>South Asia</td>\n",
       "      <td>1972</td>\n",
       "      <td>2</td>\n",
       "      <td>22</td>\n",
       "      <td>28.585836</td>\n",
       "      <td>77.153336</td>\n",
       "      <td>1972-02-22</td>\n",
       "      <td>11931</td>\n",
       "    </tr>\n",
       "    <tr>\n",
       "      <th>51666</th>\n",
       "      <td>India</td>\n",
       "      <td>South Asia</td>\n",
       "      <td>1975</td>\n",
       "      <td>1</td>\n",
       "      <td>2</td>\n",
       "      <td>25.863042</td>\n",
       "      <td>85.781004</td>\n",
       "      <td>1975-01-02</td>\n",
       "      <td>11931</td>\n",
       "    </tr>\n",
       "    <tr>\n",
       "      <th>51667</th>\n",
       "      <td>India</td>\n",
       "      <td>South Asia</td>\n",
       "      <td>1976</td>\n",
       "      <td>5</td>\n",
       "      <td>26</td>\n",
       "      <td>28.585836</td>\n",
       "      <td>77.153336</td>\n",
       "      <td>1976-05-26</td>\n",
       "      <td>11931</td>\n",
       "    </tr>\n",
       "    <tr>\n",
       "      <th>51668</th>\n",
       "      <td>India</td>\n",
       "      <td>South Asia</td>\n",
       "      <td>1977</td>\n",
       "      <td>9</td>\n",
       "      <td>28</td>\n",
       "      <td>19.075984</td>\n",
       "      <td>72.877656</td>\n",
       "      <td>1977-09-28</td>\n",
       "      <td>11931</td>\n",
       "    </tr>\n",
       "    <tr>\n",
       "      <th>51669</th>\n",
       "      <td>India</td>\n",
       "      <td>South Asia</td>\n",
       "      <td>1979</td>\n",
       "      <td>1</td>\n",
       "      <td>13</td>\n",
       "      <td>26.200605</td>\n",
       "      <td>92.937574</td>\n",
       "      <td>1979-01-13</td>\n",
       "      <td>11931</td>\n",
       "    </tr>\n",
       "    <tr>\n",
       "      <th>...</th>\n",
       "      <td>...</td>\n",
       "      <td>...</td>\n",
       "      <td>...</td>\n",
       "      <td>...</td>\n",
       "      <td>...</td>\n",
       "      <td>...</td>\n",
       "      <td>...</td>\n",
       "      <td>...</td>\n",
       "      <td>...</td>\n",
       "    </tr>\n",
       "    <tr>\n",
       "      <th>133997</th>\n",
       "      <td>Lebanon</td>\n",
       "      <td>Middle East &amp; North Africa</td>\n",
       "      <td>2017</td>\n",
       "      <td>8</td>\n",
       "      <td>22</td>\n",
       "      <td>34.215272</td>\n",
       "      <td>36.444364</td>\n",
       "      <td>2017-08-22</td>\n",
       "      <td>2453</td>\n",
       "    </tr>\n",
       "    <tr>\n",
       "      <th>133998</th>\n",
       "      <td>Lebanon</td>\n",
       "      <td>Middle East &amp; North Africa</td>\n",
       "      <td>2017</td>\n",
       "      <td>8</td>\n",
       "      <td>25</td>\n",
       "      <td>34.034916</td>\n",
       "      <td>36.227844</td>\n",
       "      <td>2017-08-25</td>\n",
       "      <td>2453</td>\n",
       "    </tr>\n",
       "    <tr>\n",
       "      <th>133999</th>\n",
       "      <td>Lebanon</td>\n",
       "      <td>Middle East &amp; North Africa</td>\n",
       "      <td>2017</td>\n",
       "      <td>11</td>\n",
       "      <td>8</td>\n",
       "      <td>34.034916</td>\n",
       "      <td>36.227844</td>\n",
       "      <td>2017-11-08</td>\n",
       "      <td>2453</td>\n",
       "    </tr>\n",
       "    <tr>\n",
       "      <th>134000</th>\n",
       "      <td>Lebanon</td>\n",
       "      <td>Middle East &amp; North Africa</td>\n",
       "      <td>2017</td>\n",
       "      <td>11</td>\n",
       "      <td>9</td>\n",
       "      <td>33.796263</td>\n",
       "      <td>35.604315</td>\n",
       "      <td>2017-11-09</td>\n",
       "      <td>2453</td>\n",
       "    </tr>\n",
       "    <tr>\n",
       "      <th>134001</th>\n",
       "      <td>Lebanon</td>\n",
       "      <td>Middle East &amp; North Africa</td>\n",
       "      <td>2017</td>\n",
       "      <td>12</td>\n",
       "      <td>26</td>\n",
       "      <td>33.759484</td>\n",
       "      <td>35.520464</td>\n",
       "      <td>2017-12-26</td>\n",
       "      <td>2453</td>\n",
       "    </tr>\n",
       "  </tbody>\n",
       "</table>\n",
       "<p>82337 rows × 9 columns</p>\n",
       "</div>"
      ],
      "text/plain": [
       "       country_txt                  region_txt  year  month  day   latitude  longitude accident_date  count\n",
       "51665        India                  South Asia  1972      2   22  28.585836  77.153336    1972-02-22  11931\n",
       "51666        India                  South Asia  1975      1    2  25.863042  85.781004    1975-01-02  11931\n",
       "51667        India                  South Asia  1976      5   26  28.585836  77.153336    1976-05-26  11931\n",
       "51668        India                  South Asia  1977      9   28  19.075984  72.877656    1977-09-28  11931\n",
       "51669        India                  South Asia  1979      1   13  26.200605  92.937574    1979-01-13  11931\n",
       "...            ...                         ...   ...    ...  ...        ...        ...           ...    ...\n",
       "133997     Lebanon  Middle East & North Africa  2017      8   22  34.215272  36.444364    2017-08-22   2453\n",
       "133998     Lebanon  Middle East & North Africa  2017      8   25  34.034916  36.227844    2017-08-25   2453\n",
       "133999     Lebanon  Middle East & North Africa  2017     11    8  34.034916  36.227844    2017-11-08   2453\n",
       "134000     Lebanon  Middle East & North Africa  2017     11    9  33.796263  35.604315    2017-11-09   2453\n",
       "134001     Lebanon  Middle East & North Africa  2017     12   26  33.759484  35.520464    2017-12-26   2453\n",
       "\n",
       "[82337 rows x 9 columns]"
      ]
     },
     "execution_count": 24,
     "metadata": {},
     "output_type": "execute_result"
    }
   ],
   "source": [
    "df4 = df3[(df3[\"count\"] > first_quantile) & (df3[\"count\"] < third_quantile)]\n",
    "df4"
   ]
  },
  {
   "cell_type": "markdown",
   "id": "1c5f0700",
   "metadata": {},
   "source": [
    "# 7 задание"
   ]
  },
  {
   "cell_type": "markdown",
   "id": "130fe2fb",
   "metadata": {},
   "source": [
    "### Количество строк по месяцу"
   ]
  },
  {
   "cell_type": "code",
   "execution_count": 25,
   "id": "e50ce3ce",
   "metadata": {},
   "outputs": [],
   "source": [
    "month_count = df4['month'].value_counts()  \n",
    "df_month_count1 = pd.DataFrame({'month': month_count.index, 'month_count': month_count.values})\n",
    "df_month_count2 = df_month_count1.copy()"
   ]
  },
  {
   "cell_type": "code",
   "execution_count": 26,
   "id": "79a3e754",
   "metadata": {},
   "outputs": [
    {
     "data": {
      "text/html": [
       "<div>\n",
       "<style scoped>\n",
       "    .dataframe tbody tr th:only-of-type {\n",
       "        vertical-align: middle;\n",
       "    }\n",
       "\n",
       "    .dataframe tbody tr th {\n",
       "        vertical-align: top;\n",
       "    }\n",
       "\n",
       "    .dataframe thead th {\n",
       "        text-align: right;\n",
       "    }\n",
       "</style>\n",
       "<table border=\"1\" class=\"dataframe\">\n",
       "  <thead>\n",
       "    <tr style=\"text-align: right;\">\n",
       "      <th></th>\n",
       "      <th>month</th>\n",
       "      <th>month_count</th>\n",
       "    </tr>\n",
       "  </thead>\n",
       "  <tbody>\n",
       "    <tr>\n",
       "      <th>0</th>\n",
       "      <td>5</td>\n",
       "      <td>7707</td>\n",
       "    </tr>\n",
       "    <tr>\n",
       "      <th>1</th>\n",
       "      <td>8</td>\n",
       "      <td>7575</td>\n",
       "    </tr>\n",
       "    <tr>\n",
       "      <th>2</th>\n",
       "      <td>7</td>\n",
       "      <td>7451</td>\n",
       "    </tr>\n",
       "    <tr>\n",
       "      <th>3</th>\n",
       "      <td>10</td>\n",
       "      <td>7140</td>\n",
       "    </tr>\n",
       "    <tr>\n",
       "      <th>4</th>\n",
       "      <td>3</td>\n",
       "      <td>6955</td>\n",
       "    </tr>\n",
       "    <tr>\n",
       "      <th>5</th>\n",
       "      <td>6</td>\n",
       "      <td>6907</td>\n",
       "    </tr>\n",
       "    <tr>\n",
       "      <th>6</th>\n",
       "      <td>4</td>\n",
       "      <td>6905</td>\n",
       "    </tr>\n",
       "    <tr>\n",
       "      <th>7</th>\n",
       "      <td>1</td>\n",
       "      <td>6810</td>\n",
       "    </tr>\n",
       "    <tr>\n",
       "      <th>8</th>\n",
       "      <td>2</td>\n",
       "      <td>6397</td>\n",
       "    </tr>\n",
       "    <tr>\n",
       "      <th>9</th>\n",
       "      <td>9</td>\n",
       "      <td>6371</td>\n",
       "    </tr>\n",
       "    <tr>\n",
       "      <th>10</th>\n",
       "      <td>11</td>\n",
       "      <td>6286</td>\n",
       "    </tr>\n",
       "    <tr>\n",
       "      <th>11</th>\n",
       "      <td>12</td>\n",
       "      <td>5833</td>\n",
       "    </tr>\n",
       "  </tbody>\n",
       "</table>\n",
       "</div>"
      ],
      "text/plain": [
       "    month  month_count\n",
       "0       5         7707\n",
       "1       8         7575\n",
       "2       7         7451\n",
       "3      10         7140\n",
       "4       3         6955\n",
       "5       6         6907\n",
       "6       4         6905\n",
       "7       1         6810\n",
       "8       2         6397\n",
       "9       9         6371\n",
       "10     11         6286\n",
       "11     12         5833"
      ]
     },
     "execution_count": 26,
     "metadata": {},
     "output_type": "execute_result"
    }
   ],
   "source": [
    "df_month_count1"
   ]
  },
  {
   "cell_type": "code",
   "execution_count": 27,
   "id": "fb27a958",
   "metadata": {},
   "outputs": [
    {
     "data": {
      "text/html": [
       "<div>\n",
       "<style scoped>\n",
       "    .dataframe tbody tr th:only-of-type {\n",
       "        vertical-align: middle;\n",
       "    }\n",
       "\n",
       "    .dataframe tbody tr th {\n",
       "        vertical-align: top;\n",
       "    }\n",
       "\n",
       "    .dataframe thead th {\n",
       "        text-align: right;\n",
       "    }\n",
       "</style>\n",
       "<table border=\"1\" class=\"dataframe\">\n",
       "  <thead>\n",
       "    <tr style=\"text-align: right;\">\n",
       "      <th></th>\n",
       "      <th>country_txt</th>\n",
       "      <th>region_txt</th>\n",
       "      <th>year</th>\n",
       "      <th>month</th>\n",
       "      <th>day</th>\n",
       "      <th>latitude</th>\n",
       "      <th>longitude</th>\n",
       "      <th>accident_date</th>\n",
       "      <th>count</th>\n",
       "      <th>month_count</th>\n",
       "    </tr>\n",
       "  </thead>\n",
       "  <tbody>\n",
       "    <tr>\n",
       "      <th>0</th>\n",
       "      <td>India</td>\n",
       "      <td>South Asia</td>\n",
       "      <td>1976</td>\n",
       "      <td>5</td>\n",
       "      <td>26</td>\n",
       "      <td>28.585836</td>\n",
       "      <td>77.153336</td>\n",
       "      <td>1976-05-26</td>\n",
       "      <td>11931</td>\n",
       "      <td>7707</td>\n",
       "    </tr>\n",
       "    <tr>\n",
       "      <th>1</th>\n",
       "      <td>India</td>\n",
       "      <td>South Asia</td>\n",
       "      <td>1984</td>\n",
       "      <td>5</td>\n",
       "      <td>1</td>\n",
       "      <td>23.940848</td>\n",
       "      <td>91.988153</td>\n",
       "      <td>1984-05-01</td>\n",
       "      <td>11931</td>\n",
       "      <td>7707</td>\n",
       "    </tr>\n",
       "    <tr>\n",
       "      <th>2</th>\n",
       "      <td>India</td>\n",
       "      <td>South Asia</td>\n",
       "      <td>1984</td>\n",
       "      <td>5</td>\n",
       "      <td>2</td>\n",
       "      <td>31.147131</td>\n",
       "      <td>75.341218</td>\n",
       "      <td>1984-05-02</td>\n",
       "      <td>11931</td>\n",
       "      <td>7707</td>\n",
       "    </tr>\n",
       "    <tr>\n",
       "      <th>3</th>\n",
       "      <td>India</td>\n",
       "      <td>South Asia</td>\n",
       "      <td>1984</td>\n",
       "      <td>5</td>\n",
       "      <td>5</td>\n",
       "      <td>29.058776</td>\n",
       "      <td>76.085601</td>\n",
       "      <td>1984-05-05</td>\n",
       "      <td>11931</td>\n",
       "      <td>7707</td>\n",
       "    </tr>\n",
       "    <tr>\n",
       "      <th>4</th>\n",
       "      <td>India</td>\n",
       "      <td>South Asia</td>\n",
       "      <td>1984</td>\n",
       "      <td>5</td>\n",
       "      <td>6</td>\n",
       "      <td>31.633078</td>\n",
       "      <td>74.878288</td>\n",
       "      <td>1984-05-06</td>\n",
       "      <td>11931</td>\n",
       "      <td>7707</td>\n",
       "    </tr>\n",
       "  </tbody>\n",
       "</table>\n",
       "</div>"
      ],
      "text/plain": [
       "  country_txt  region_txt  year  month  day   latitude  longitude accident_date  count  month_count\n",
       "0       India  South Asia  1976      5   26  28.585836  77.153336    1976-05-26  11931         7707\n",
       "1       India  South Asia  1984      5    1  23.940848  91.988153    1984-05-01  11931         7707\n",
       "2       India  South Asia  1984      5    2  31.147131  75.341218    1984-05-02  11931         7707\n",
       "3       India  South Asia  1984      5    5  29.058776  76.085601    1984-05-05  11931         7707\n",
       "4       India  South Asia  1984      5    6  31.633078  74.878288    1984-05-06  11931         7707"
      ]
     },
     "execution_count": 27,
     "metadata": {},
     "output_type": "execute_result"
    }
   ],
   "source": [
    "df5 = df4.merge(df_month_count1, how='right', on=['month'])\n",
    "df5.head()"
   ]
  },
  {
   "cell_type": "markdown",
   "id": "e372f9c6",
   "metadata": {},
   "source": [
    "# 8 и 9 задание"
   ]
  },
  {
   "cell_type": "markdown",
   "id": "0d839c30",
   "metadata": {},
   "source": [
    "### Методы нормализации данных"
   ]
  },
  {
   "cell_type": "code",
   "execution_count": 28,
   "id": "52bb32ec",
   "metadata": {},
   "outputs": [],
   "source": [
    "def abs_max_scale(series):\n",
    "    return series / series.abs().max()"
   ]
  },
  {
   "cell_type": "code",
   "execution_count": 29,
   "id": "95e8027b",
   "metadata": {},
   "outputs": [],
   "source": [
    "def abs_max_scale2(series):\n",
    "    return (series - series.min()) / (series.max() - series.min())"
   ]
  },
  {
   "cell_type": "markdown",
   "id": "49d209e3",
   "metadata": {},
   "source": [
    "### Построение 2 диаграммы по двум методам"
   ]
  },
  {
   "cell_type": "markdown",
   "id": "7c523822",
   "metadata": {},
   "source": [
    "#### 1 метод"
   ]
  },
  {
   "cell_type": "code",
   "execution_count": 30,
   "id": "13edd471",
   "metadata": {
    "scrolled": true
   },
   "outputs": [
    {
     "data": {
      "text/html": [
       "<div>\n",
       "<style scoped>\n",
       "    .dataframe tbody tr th:only-of-type {\n",
       "        vertical-align: middle;\n",
       "    }\n",
       "\n",
       "    .dataframe tbody tr th {\n",
       "        vertical-align: top;\n",
       "    }\n",
       "\n",
       "    .dataframe thead th {\n",
       "        text-align: right;\n",
       "    }\n",
       "</style>\n",
       "<table border=\"1\" class=\"dataframe\">\n",
       "  <thead>\n",
       "    <tr style=\"text-align: right;\">\n",
       "      <th></th>\n",
       "      <th>month</th>\n",
       "      <th>month_count</th>\n",
       "    </tr>\n",
       "  </thead>\n",
       "  <tbody>\n",
       "    <tr>\n",
       "      <th>0</th>\n",
       "      <td>0.416667</td>\n",
       "      <td>1.000000</td>\n",
       "    </tr>\n",
       "    <tr>\n",
       "      <th>1</th>\n",
       "      <td>0.666667</td>\n",
       "      <td>0.982873</td>\n",
       "    </tr>\n",
       "    <tr>\n",
       "      <th>2</th>\n",
       "      <td>0.583333</td>\n",
       "      <td>0.966783</td>\n",
       "    </tr>\n",
       "    <tr>\n",
       "      <th>3</th>\n",
       "      <td>0.833333</td>\n",
       "      <td>0.926431</td>\n",
       "    </tr>\n",
       "    <tr>\n",
       "      <th>4</th>\n",
       "      <td>0.250000</td>\n",
       "      <td>0.902426</td>\n",
       "    </tr>\n",
       "    <tr>\n",
       "      <th>5</th>\n",
       "      <td>0.500000</td>\n",
       "      <td>0.896198</td>\n",
       "    </tr>\n",
       "    <tr>\n",
       "      <th>6</th>\n",
       "      <td>0.333333</td>\n",
       "      <td>0.895939</td>\n",
       "    </tr>\n",
       "    <tr>\n",
       "      <th>7</th>\n",
       "      <td>0.083333</td>\n",
       "      <td>0.883612</td>\n",
       "    </tr>\n",
       "    <tr>\n",
       "      <th>8</th>\n",
       "      <td>0.166667</td>\n",
       "      <td>0.830025</td>\n",
       "    </tr>\n",
       "    <tr>\n",
       "      <th>9</th>\n",
       "      <td>0.750000</td>\n",
       "      <td>0.826651</td>\n",
       "    </tr>\n",
       "    <tr>\n",
       "      <th>10</th>\n",
       "      <td>0.916667</td>\n",
       "      <td>0.815622</td>\n",
       "    </tr>\n",
       "    <tr>\n",
       "      <th>11</th>\n",
       "      <td>1.000000</td>\n",
       "      <td>0.756844</td>\n",
       "    </tr>\n",
       "  </tbody>\n",
       "</table>\n",
       "</div>"
      ],
      "text/plain": [
       "       month  month_count\n",
       "0   0.416667     1.000000\n",
       "1   0.666667     0.982873\n",
       "2   0.583333     0.966783\n",
       "3   0.833333     0.926431\n",
       "4   0.250000     0.902426\n",
       "5   0.500000     0.896198\n",
       "6   0.333333     0.895939\n",
       "7   0.083333     0.883612\n",
       "8   0.166667     0.830025\n",
       "9   0.750000     0.826651\n",
       "10  0.916667     0.815622\n",
       "11  1.000000     0.756844"
      ]
     },
     "execution_count": 30,
     "metadata": {},
     "output_type": "execute_result"
    }
   ],
   "source": [
    "df_month_count1['month'] = abs_max_scale(df_month_count1['month'])\n",
    "df_month_count1['month_count'] = abs_max_scale(df_month_count1['month_count'])\n",
    "df_month_count1"
   ]
  },
  {
   "cell_type": "markdown",
   "id": "1a36eedf",
   "metadata": {},
   "source": [
    "#### 2 метод"
   ]
  },
  {
   "cell_type": "code",
   "execution_count": 32,
   "id": "5409d204",
   "metadata": {
    "scrolled": true
   },
   "outputs": [
    {
     "data": {
      "text/html": [
       "<div>\n",
       "<style scoped>\n",
       "    .dataframe tbody tr th:only-of-type {\n",
       "        vertical-align: middle;\n",
       "    }\n",
       "\n",
       "    .dataframe tbody tr th {\n",
       "        vertical-align: top;\n",
       "    }\n",
       "\n",
       "    .dataframe thead th {\n",
       "        text-align: right;\n",
       "    }\n",
       "</style>\n",
       "<table border=\"1\" class=\"dataframe\">\n",
       "  <thead>\n",
       "    <tr style=\"text-align: right;\">\n",
       "      <th></th>\n",
       "      <th>month</th>\n",
       "      <th>month_count</th>\n",
       "    </tr>\n",
       "  </thead>\n",
       "  <tbody>\n",
       "    <tr>\n",
       "      <th>0</th>\n",
       "      <td>0.363636</td>\n",
       "      <td>1.000000</td>\n",
       "    </tr>\n",
       "    <tr>\n",
       "      <th>1</th>\n",
       "      <td>0.636364</td>\n",
       "      <td>0.929562</td>\n",
       "    </tr>\n",
       "    <tr>\n",
       "      <th>2</th>\n",
       "      <td>0.545455</td>\n",
       "      <td>0.863394</td>\n",
       "    </tr>\n",
       "    <tr>\n",
       "      <th>3</th>\n",
       "      <td>0.818182</td>\n",
       "      <td>0.697439</td>\n",
       "    </tr>\n",
       "    <tr>\n",
       "      <th>4</th>\n",
       "      <td>0.181818</td>\n",
       "      <td>0.598719</td>\n",
       "    </tr>\n",
       "    <tr>\n",
       "      <th>5</th>\n",
       "      <td>0.454545</td>\n",
       "      <td>0.573106</td>\n",
       "    </tr>\n",
       "    <tr>\n",
       "      <th>6</th>\n",
       "      <td>0.272727</td>\n",
       "      <td>0.572038</td>\n",
       "    </tr>\n",
       "    <tr>\n",
       "      <th>7</th>\n",
       "      <td>0.000000</td>\n",
       "      <td>0.521345</td>\n",
       "    </tr>\n",
       "    <tr>\n",
       "      <th>8</th>\n",
       "      <td>0.090909</td>\n",
       "      <td>0.300961</td>\n",
       "    </tr>\n",
       "    <tr>\n",
       "      <th>9</th>\n",
       "      <td>0.727273</td>\n",
       "      <td>0.287086</td>\n",
       "    </tr>\n",
       "    <tr>\n",
       "      <th>10</th>\n",
       "      <td>0.909091</td>\n",
       "      <td>0.241729</td>\n",
       "    </tr>\n",
       "    <tr>\n",
       "      <th>11</th>\n",
       "      <td>1.000000</td>\n",
       "      <td>0.000000</td>\n",
       "    </tr>\n",
       "  </tbody>\n",
       "</table>\n",
       "</div>"
      ],
      "text/plain": [
       "       month  month_count\n",
       "0   0.363636     1.000000\n",
       "1   0.636364     0.929562\n",
       "2   0.545455     0.863394\n",
       "3   0.818182     0.697439\n",
       "4   0.181818     0.598719\n",
       "5   0.454545     0.573106\n",
       "6   0.272727     0.572038\n",
       "7   0.000000     0.521345\n",
       "8   0.090909     0.300961\n",
       "9   0.727273     0.287086\n",
       "10  0.909091     0.241729\n",
       "11  1.000000     0.000000"
      ]
     },
     "execution_count": 32,
     "metadata": {},
     "output_type": "execute_result"
    }
   ],
   "source": [
    "df_month_count2['month'] = abs_max_scale2(df_month_count2['month'])\n",
    "df_month_count2['month_count'] = abs_max_scale2(df_month_count2['month_count'])\n",
    "df_month_count2"
   ]
  },
  {
   "cell_type": "code",
   "execution_count": 44,
   "id": "97a8697d",
   "metadata": {},
   "outputs": [],
   "source": [
    "from scipy.stats import norm\n",
    "import scipy.stats as stats\n",
    "import numpy as np\n",
    "import pylab as pl"
   ]
  },
  {
   "cell_type": "markdown",
   "id": "08d370aa",
   "metadata": {},
   "source": [
    "### Гистограмма и кривые распределения по month для 1 стандартизации"
   ]
  },
  {
   "cell_type": "code",
   "execution_count": 45,
   "id": "1755f5bd",
   "metadata": {
    "scrolled": false
   },
   "outputs": [
    {
     "data": {
      "image/png": "[encoded data removed]",
      "text/plain": [
       "<Figure size 640x480 with 1 Axes>"
      ]
     },
     "metadata": {},
     "output_type": "display_data"
    }
   ],
   "source": [
    "df_month_count1.sort_values(by='month', inplace=True)\n",
    "fit = stats.norm.pdf(df_month_count1['month'], np.mean(df_month_count1['month']), np.std(df_month_count1['month']))\n",
    "pl.plot(df_month_count1['month'], fit, label='μ: 0.5417, σ: 0.3', color='green')\n",
    "pl.hist(df_month_count1['month'], edgecolor='black')\n",
    "x = np.arange(0, 1, 0.01)\n",
    "pl.plot(x, norm.pdf(x, 0.5417, 0.1), label='μ: 0.5417, σ: 0.1', color='red')\n",
    "pl.legend(title='Parameters:')\n",
    "pl.ylabel('Density')\n",
    "pl.xlabel('Month')\n",
    "pl.title('Normal Distributions (first method)', fontsize=14)\n",
    "pl.show()"
   ]
  },
  {
   "cell_type": "markdown",
   "id": "18a596e2",
   "metadata": {},
   "source": [
    "### Гистограмма и кривые распределения по month_count для 1 стандартизации !"
   ]
  },
  {
   "cell_type": "code",
   "execution_count": 46,
   "id": "8e432202",
   "metadata": {},
   "outputs": [
    {
     "data": {
      "image/png": "[encoded data removed]",
      "text/plain": [
       "<Figure size 640x480 with 1 Axes>"
      ]
     },
     "metadata": {},
     "output_type": "display_data"
    }
   ],
   "source": [
    "df_month_count1.sort_values(by='month_count', inplace=True)\n",
    "fit = stats.norm.pdf(df_month_count1['month_count'], np.mean(df_month_count1['month_count']), np.std(df_month_count1['month_count']))\n",
    "pl.plot(df_month_count1['month_count'], fit, label='μ: 0.8903, σ: 0.07', color='green')\n",
    "pl.hist(df_month_count1['month_count'], edgecolor='black')\n",
    "x = np.arange(0.756844, 1, 0.0001)\n",
    "pl.plot(x, norm.pdf(x, 0.8902837247523897, 0.05), label='μ: 0.8903, σ: 0.05', color='red')\n",
    "pl.legend(title='Parameters:')\n",
    "pl.ylabel('Density')\n",
    "pl.xlabel('Month_count')\n",
    "pl.title('Normal Distributions (first method)', fontsize=14)\n",
    "pl.show()"
   ]
  },
  {
   "cell_type": "markdown",
   "id": "ec47a474",
   "metadata": {},
   "source": [
    "### Гистограмма и кривые распределения по month для 2 стандартизации"
   ]
  },
  {
   "cell_type": "code",
   "execution_count": 47,
   "id": "4435be70",
   "metadata": {},
   "outputs": [
    {
     "data": {
      "image/png": "[encoded data removed]",
      "text/plain": [
       "<Figure size 640x480 with 1 Axes>"
      ]
     },
     "metadata": {},
     "output_type": "display_data"
    }
   ],
   "source": [
    "df_month_count2.sort_values(by='month', inplace=True)\n",
    "fit = stats.norm.pdf(df_month_count2['month'], np.mean(df_month_count2['month']), np.std(df_month_count2['month']))\n",
    "pl.plot(df_month_count2['month'], fit, label='μ: 0.5, σ: 0.3', color='green')\n",
    "pl.hist(df_month_count2['month'], edgecolor='black')\n",
    "x = np.arange(0, 1, 0.01)\n",
    "pl.plot(x, norm.pdf(x, 0.5, 0.1), label='μ: 0.5, σ: 0.1', color='red')\n",
    "pl.legend(title='Parameters:')\n",
    "pl.ylabel('Density')\n",
    "pl.xlabel('Month')\n",
    "pl.title('Normal Distributions (second method)', fontsize=14)\n",
    "pl.show()"
   ]
  },
  {
   "cell_type": "markdown",
   "id": "fc96929d",
   "metadata": {},
   "source": [
    "### Гистограмма и кривые распределения по month_count для 2 стандартизации"
   ]
  },
  {
   "cell_type": "code",
   "execution_count": 48,
   "id": "a5e5a713",
   "metadata": {},
   "outputs": [
    {
     "data": {
      "image/png": "[encoded data removed]",
      "text/plain": [
       "<Figure size 640x480 with 1 Axes>"
      ]
     },
     "metadata": {},
     "output_type": "display_data"
    }
   ],
   "source": [
    "df_month_count2.sort_values(by='month_count', inplace=True)\n",
    "fit = stats.norm.pdf(df_month_count2['month_count'], np.mean(df_month_count2['month_count']), np.std(df_month_count2['month_count']))\n",
    "pl.plot(df_month_count2['month_count'], fit, label='μ: 0.5488, σ: 0.2886', color='green')\n",
    "pl.hist(df_month_count2['month_count'], edgecolor='black')\n",
    "x = np.arange(0, 1, 0.01)\n",
    "pl.plot(x, norm.pdf(x, 0.5488, 0.1), label='μ: 0.5488, σ: 0.1', color='red')\n",
    "pl.legend(title='Parameters:')\n",
    "pl.ylabel('Density')\n",
    "pl.xlabel('Month_count')\n",
    "pl.title('Normal Distributions (second method)', fontsize=14)\n",
    "pl.show()"
   ]
  },
  {
   "cell_type": "markdown",
   "id": "b852f47b",
   "metadata": {},
   "source": [
    "# 10 задание"
   ]
  },
  {
   "cell_type": "code",
   "execution_count": 54,
   "id": "5c78956a",
   "metadata": {},
   "outputs": [],
   "source": [
    "from sklearn.linear_model import LinearRegression\n",
    "import matplotlib.pyplot as plt\n",
    "import scipy.stats as stats\n",
    "import pylab as pl"
   ]
  },
  {
   "cell_type": "markdown",
   "id": "b583ec28",
   "metadata": {},
   "source": [
    "### Построение линейной регрессии"
   ]
  },
  {
   "cell_type": "code",
   "execution_count": 55,
   "id": "39790d64",
   "metadata": {},
   "outputs": [],
   "source": [
    "def linregr(df10_norm, n_of_method):\n",
    "    print(df10_norm)\n",
    "    x = np.array(df10_norm['month']).reshape(-1, 1)\n",
    "    y = np.array(df10_norm['month_count'])\n",
    "\n",
    "    model = LinearRegression().fit(x, y)\n",
    "    R_sq = model.score(x, y)\n",
    "    # The coefficients\n",
    "    # print(\"Coefficients: \\n\", model.coef_)\n",
    "    print('Coefficient of determination:', R_sq)\n",
    "\n",
    "    y_pred = model.predict(x)\n",
    "    print(\"Y predicted = \", y_pred)\n",
    "    print(\"Y = \", y)\n",
    "    #регрессионные остатки\n",
    "    Е = y - y_pred\n",
    "\n",
    "    plt.scatter(x, y, color=\"black\")\n",
    "    plt.plot(x, y_pred, color=\"blue\", linewidth=3)\n",
    "    plt.ylabel('Month_count')\n",
    "    plt.xlabel('Month')\n",
    "    plt.title(f'LinearRegression ({n_of_method} method)', fontsize=14)\n",
    "    plt.show()"
   ]
  },
  {
   "cell_type": "markdown",
   "id": "c995729b",
   "metadata": {},
   "source": [
    "### 1 метод"
   ]
  },
  {
   "cell_type": "code",
   "execution_count": 56,
   "id": "322f1e45",
   "metadata": {},
   "outputs": [
    {
     "name": "stdout",
     "output_type": "stream",
     "text": [
      "       month  month_count\n",
      "11  1.000000     0.756844\n",
      "10  0.916667     0.815622\n",
      "9   0.750000     0.826651\n",
      "8   0.166667     0.830025\n",
      "7   0.083333     0.883612\n",
      "6   0.333333     0.895939\n",
      "5   0.500000     0.896198\n",
      "4   0.250000     0.902426\n",
      "3   0.833333     0.926431\n",
      "2   0.583333     0.966783\n",
      "1   0.666667     0.982873\n",
      "0   0.416667     1.000000\n",
      "Coefficient of determination: 0.08383188926511387\n",
      "Y predicted =  [0.85791305 0.86379863 0.87556978 0.91676882 0.9226544  0.90499767\n",
      " 0.89322651 0.91088324 0.86968421 0.88734094 0.88145536 0.89911209]\n",
      "Y =  [0.75684443 0.81562216 0.8266511  0.83002465 0.8836123  0.89593876\n",
      " 0.89619826 0.90242637 0.92643052 0.96678344 0.98287271 1.        ]\n"
     ]
    },
    {
     "data": {
      "image/png": "[encoded data removed]",
      "text/plain": [
       "<Figure size 640x480 with 1 Axes>"
      ]
     },
     "metadata": {},
     "output_type": "display_data"
    }
   ],
   "source": [
    "df10_norm = df_month_count1.copy()\n",
    "linregr(df10_norm, 1)"
   ]
  },
  {
   "cell_type": "markdown",
   "id": "7092590d",
   "metadata": {},
   "source": [
    "### 2 метод"
   ]
  },
  {
   "cell_type": "code",
   "execution_count": 58,
   "id": "c0f550d9",
   "metadata": {},
   "outputs": [
    {
     "name": "stdout",
     "output_type": "stream",
     "text": [
      "       month  month_count\n",
      "11  1.000000     0.000000\n",
      "10  0.909091     0.241729\n",
      "9   0.727273     0.287086\n",
      "8   0.090909     0.300961\n",
      "7   0.000000     0.521345\n",
      "6   0.272727     0.572038\n",
      "5   0.454545     0.573106\n",
      "4   0.181818     0.598719\n",
      "3   0.818182     0.697439\n",
      "2   0.545455     0.863394\n",
      "1   0.636364     0.929562\n",
      "0   0.363636     1.000000\n",
      "Coefficient of determination: 0.0838318892651142\n",
      "Y predicted =  [0.41565416 0.43985914 0.48826911 0.657704   0.68190898 0.60929403\n",
      " 0.56088406 0.63349902 0.46406413 0.53667908 0.5124741  0.58508905]\n",
      "Y =  [0.         0.24172892 0.28708645 0.30096051 0.52134472 0.57203842\n",
      " 0.57310566 0.59871932 0.69743863 0.86339381 0.92956243 1.        ]\n"
     ]
    },
    {
     "data": {
      "image/png": "[encoded data removed]",
      "text/plain": [
       "<Figure size 640x480 with 1 Axes>"
      ]
     },
     "metadata": {},
     "output_type": "display_data"
    }
   ],
   "source": [
    "df10_norm = df_month_count2.copy()\n",
    "linregr(df10_norm, 2)"
   ]
  },
  {
   "cell_type": "code",
   "execution_count": null,
   "id": "99ee9e46",
   "metadata": {},
   "outputs": [],
   "source": []
  }
 ],
 "metadata": {
  "kernelspec": {
   "display_name": "Python 3 (ipykernel)",
   "language": "python",
   "name": "python3"
  },
  "language_info": {
   "codemirror_mode": {
    "name": "ipython",
    "version": 3
   },
   "file_extension": ".py",
   "mimetype": "text/x-python",
   "name": "python",
   "nbconvert_exporter": "python",
   "pygments_lexer": "ipython3",
   "version": "3.7.0"
  }
 },
 "nbformat": 4,
 "nbformat_minor": 5
}
